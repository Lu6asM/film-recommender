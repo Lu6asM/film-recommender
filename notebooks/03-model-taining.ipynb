{
 "cells": [
  {
   "cell_type": "markdown",
   "metadata": {},
   "source": [
    "# **Importation**"
   ]
  },
  {
   "cell_type": "code",
   "execution_count": 1,
   "metadata": {},
   "outputs": [],
   "source": [
    "import pandas as pd\n",
    "\n",
    "file_path = \"../data/processed/df_movie_cleaned.csv\"\n",
    "\n",
    "df_movie = pd.read_csv(file_path)"
   ]
  },
  {
   "cell_type": "code",
   "execution_count": 7,
   "metadata": {},
   "outputs": [
    {
     "data": {
      "text/html": [
       "<div>\n",
       "<style scoped>\n",
       "    .dataframe tbody tr th:only-of-type {\n",
       "        vertical-align: middle;\n",
       "    }\n",
       "\n",
       "    .dataframe tbody tr th {\n",
       "        vertical-align: top;\n",
       "    }\n",
       "\n",
       "    .dataframe thead th {\n",
       "        text-align: right;\n",
       "    }\n",
       "</style>\n",
       "<table border=\"1\" class=\"dataframe\">\n",
       "  <thead>\n",
       "    <tr style=\"text-align: right;\">\n",
       "      <th></th>\n",
       "      <th>ID</th>\n",
       "      <th>Titre Original</th>\n",
       "      <th>Titre Français</th>\n",
       "      <th>Réalisateur(s)</th>\n",
       "      <th>Acteurs</th>\n",
       "      <th>Budget</th>\n",
       "      <th>Genres</th>\n",
       "      <th>Genre Principal</th>\n",
       "      <th>Date de Sortie</th>\n",
       "      <th>Décennie</th>\n",
       "      <th>...</th>\n",
       "      <th>Image de Fond</th>\n",
       "      <th>Pays de Production</th>\n",
       "      <th>Durée</th>\n",
       "      <th>Métrage</th>\n",
       "      <th>Note tmdb</th>\n",
       "      <th>Votes tmdb</th>\n",
       "      <th>Note imdb</th>\n",
       "      <th>Votes imdb</th>\n",
       "      <th>Compagnies de Production</th>\n",
       "      <th>Box Office</th>\n",
       "    </tr>\n",
       "  </thead>\n",
       "  <tbody>\n",
       "    <tr>\n",
       "      <th>0</th>\n",
       "      <td>tt0035423</td>\n",
       "      <td>Kate &amp; Leopold</td>\n",
       "      <td>Kate et Léopold</td>\n",
       "      <td>James Mangold</td>\n",
       "      <td>Hugh Jackman, Liev Schreiber, Breckin Meyer, B...</td>\n",
       "      <td>48000000</td>\n",
       "      <td>Romance, Fantasy, Comedy</td>\n",
       "      <td>Romance</td>\n",
       "      <td>2001-12-25</td>\n",
       "      <td>2000</td>\n",
       "      <td>...</td>\n",
       "      <td>/hfeiSfWYujh6MKhtGTXyK3DD4nN.jpg</td>\n",
       "      <td>US</td>\n",
       "      <td>118</td>\n",
       "      <td>Moyen</td>\n",
       "      <td>6.326</td>\n",
       "      <td>1187</td>\n",
       "      <td>6.4</td>\n",
       "      <td>90717</td>\n",
       "      <td>Konrad Pictures, Miramax</td>\n",
       "      <td>76019048</td>\n",
       "    </tr>\n",
       "    <tr>\n",
       "      <th>1</th>\n",
       "      <td>tt0066921</td>\n",
       "      <td>A Clockwork Orange</td>\n",
       "      <td>Orange mécanique</td>\n",
       "      <td>Stanley Kubrick</td>\n",
       "      <td>Malcolm McDowell, Patrick Magee, Michael Bates...</td>\n",
       "      <td>2200000</td>\n",
       "      <td>Science Fiction, Drama</td>\n",
       "      <td>Science Fiction</td>\n",
       "      <td>1971-12-19</td>\n",
       "      <td>70°s</td>\n",
       "      <td>...</td>\n",
       "      <td>/3hwKS7e21hzEnXZaOs2FE6e97bc.jpg</td>\n",
       "      <td>GB, US</td>\n",
       "      <td>137</td>\n",
       "      <td>Moyen</td>\n",
       "      <td>8.218</td>\n",
       "      <td>11572</td>\n",
       "      <td>8.2</td>\n",
       "      <td>898411</td>\n",
       "      <td>Warner Bros. Pictures, Hawk Films</td>\n",
       "      <td>26589000</td>\n",
       "    </tr>\n",
       "    <tr>\n",
       "      <th>2</th>\n",
       "      <td>tt0067093</td>\n",
       "      <td>Fiddler on the Roof</td>\n",
       "      <td>Un violon sur le toit</td>\n",
       "      <td>Norman Jewison</td>\n",
       "      <td>Topol, Leonard Frey, Paul Mann, Paul Michael G...</td>\n",
       "      <td>9000000</td>\n",
       "      <td>Drama, Romance</td>\n",
       "      <td>Drama</td>\n",
       "      <td>1971-11-03</td>\n",
       "      <td>70°s</td>\n",
       "      <td>...</td>\n",
       "      <td>/rqnOgJWvlURkcOWfGqiACvkTAqG.jpg</td>\n",
       "      <td>US</td>\n",
       "      <td>179</td>\n",
       "      <td>Moyen</td>\n",
       "      <td>7.700</td>\n",
       "      <td>475</td>\n",
       "      <td>8.0</td>\n",
       "      <td>48843</td>\n",
       "      <td>United Artists, Cartier Productions, The Miris...</td>\n",
       "      <td>83304330</td>\n",
       "    </tr>\n",
       "    <tr>\n",
       "      <th>3</th>\n",
       "      <td>tt0068646</td>\n",
       "      <td>The Godfather</td>\n",
       "      <td>Le Parrain</td>\n",
       "      <td>Francis Ford Coppola</td>\n",
       "      <td>Marlon Brando, Al Pacino, James Caan, Richard ...</td>\n",
       "      <td>6000000</td>\n",
       "      <td>Drama, Crime</td>\n",
       "      <td>Drama</td>\n",
       "      <td>1972-03-14</td>\n",
       "      <td>70°s</td>\n",
       "      <td>...</td>\n",
       "      <td>/tmU7GeKVybMWFButWEGl2M4GeiP.jpg</td>\n",
       "      <td>US</td>\n",
       "      <td>175</td>\n",
       "      <td>Moyen</td>\n",
       "      <td>8.712</td>\n",
       "      <td>17871</td>\n",
       "      <td>9.2</td>\n",
       "      <td>2072843</td>\n",
       "      <td>Paramount, Alfran Productions</td>\n",
       "      <td>245066411</td>\n",
       "    </tr>\n",
       "    <tr>\n",
       "      <th>4</th>\n",
       "      <td>tt0070047</td>\n",
       "      <td>The Exorcist</td>\n",
       "      <td>L'Exorciste</td>\n",
       "      <td>William Friedkin</td>\n",
       "      <td>Max von Sydow, Lee J. Cobb, Jack MacGowran, Ja...</td>\n",
       "      <td>15000000</td>\n",
       "      <td>Horror</td>\n",
       "      <td>Horror</td>\n",
       "      <td>1973-12-26</td>\n",
       "      <td>70°s</td>\n",
       "      <td>...</td>\n",
       "      <td>/xcjJ5khg2yzOa282mza39Lbrm7j.jpg</td>\n",
       "      <td>US</td>\n",
       "      <td>122</td>\n",
       "      <td>Moyen</td>\n",
       "      <td>7.719</td>\n",
       "      <td>6959</td>\n",
       "      <td>8.1</td>\n",
       "      <td>468748</td>\n",
       "      <td>Hoya Productions, Warner Bros. Pictures</td>\n",
       "      <td>441405644</td>\n",
       "    </tr>\n",
       "  </tbody>\n",
       "</table>\n",
       "<p>5 rows × 25 columns</p>\n",
       "</div>"
      ],
      "text/plain": [
       "          ID       Titre Original         Titre Français  \\\n",
       "0  tt0035423       Kate & Leopold        Kate et Léopold   \n",
       "1  tt0066921   A Clockwork Orange       Orange mécanique   \n",
       "2  tt0067093  Fiddler on the Roof  Un violon sur le toit   \n",
       "3  tt0068646        The Godfather             Le Parrain   \n",
       "4  tt0070047         The Exorcist            L'Exorciste   \n",
       "\n",
       "         Réalisateur(s)                                            Acteurs  \\\n",
       "0         James Mangold  Hugh Jackman, Liev Schreiber, Breckin Meyer, B...   \n",
       "1       Stanley Kubrick  Malcolm McDowell, Patrick Magee, Michael Bates...   \n",
       "2        Norman Jewison  Topol, Leonard Frey, Paul Mann, Paul Michael G...   \n",
       "3  Francis Ford Coppola  Marlon Brando, Al Pacino, James Caan, Richard ...   \n",
       "4      William Friedkin  Max von Sydow, Lee J. Cobb, Jack MacGowran, Ja...   \n",
       "\n",
       "     Budget                    Genres  Genre Principal Date de Sortie  \\\n",
       "0  48000000  Romance, Fantasy, Comedy          Romance     2001-12-25   \n",
       "1   2200000    Science Fiction, Drama  Science Fiction     1971-12-19   \n",
       "2   9000000            Drama, Romance            Drama     1971-11-03   \n",
       "3   6000000              Drama, Crime            Drama     1972-03-14   \n",
       "4  15000000                    Horror           Horror     1973-12-26   \n",
       "\n",
       "  Décennie  ...                     Image de Fond Pays de Production  Durée  \\\n",
       "0     2000  ...  /hfeiSfWYujh6MKhtGTXyK3DD4nN.jpg                 US    118   \n",
       "1     70°s  ...  /3hwKS7e21hzEnXZaOs2FE6e97bc.jpg             GB, US    137   \n",
       "2     70°s  ...  /rqnOgJWvlURkcOWfGqiACvkTAqG.jpg                 US    179   \n",
       "3     70°s  ...  /tmU7GeKVybMWFButWEGl2M4GeiP.jpg                 US    175   \n",
       "4     70°s  ...  /xcjJ5khg2yzOa282mza39Lbrm7j.jpg                 US    122   \n",
       "\n",
       "  Métrage Note tmdb Votes tmdb Note imdb  Votes imdb  \\\n",
       "0   Moyen     6.326       1187       6.4       90717   \n",
       "1   Moyen     8.218      11572       8.2      898411   \n",
       "2   Moyen     7.700        475       8.0       48843   \n",
       "3   Moyen     8.712      17871       9.2     2072843   \n",
       "4   Moyen     7.719       6959       8.1      468748   \n",
       "\n",
       "                            Compagnies de Production  Box Office  \n",
       "0                           Konrad Pictures, Miramax    76019048  \n",
       "1                  Warner Bros. Pictures, Hawk Films    26589000  \n",
       "2  United Artists, Cartier Productions, The Miris...    83304330  \n",
       "3                      Paramount, Alfran Productions   245066411  \n",
       "4            Hoya Productions, Warner Bros. Pictures   441405644  \n",
       "\n",
       "[5 rows x 25 columns]"
      ]
     },
     "execution_count": 7,
     "metadata": {},
     "output_type": "execute_result"
    }
   ],
   "source": [
    "df_movie.head()"
   ]
  },
  {
   "cell_type": "code",
   "execution_count": 3,
   "metadata": {},
   "outputs": [
    {
     "name": "stdout",
     "output_type": "stream",
     "text": [
      "Lignes sans genres : 0\n"
     ]
    }
   ],
   "source": [
    "missing_genres = df_movie[df_movie['Genres'].isnull()]\n",
    "print(f\"Lignes sans genres : {missing_genres.shape[0]}\")"
   ]
  },
  {
   "cell_type": "code",
   "execution_count": 5,
   "metadata": {},
   "outputs": [
    {
     "name": "stdout",
     "output_type": "stream",
     "text": [
      "Lignes avec des durées invalides : 0\n"
     ]
    }
   ],
   "source": [
    "invalid_durations = df_movie[(df_movie['Durée'].isnull()) | (df_movie['Durée'] <= 0)]\n",
    "print(f\"Lignes avec des durées invalides : {invalid_durations.shape[0]}\")"
   ]
  },
  {
   "cell_type": "code",
   "execution_count": null,
   "metadata": {},
   "outputs": [],
   "source": [
    "# Convertir les listes en chaînes de caractères\n"
   ]
  },
  {
   "cell_type": "markdown",
   "metadata": {},
   "source": [
    "# **Système de recommandation**\n",
    "\n",
    "## K-Nearest Neighbors (KNN)."
   ]
  },
  {
   "cell_type": "code",
   "execution_count": 1,
   "metadata": {},
   "outputs": [
    {
     "ename": "ModuleNotFoundError",
     "evalue": "No module named 'sklearn'",
     "output_type": "error",
     "traceback": [
      "\u001b[1;31m---------------------------------------------------------------------------\u001b[0m",
      "\u001b[1;31mModuleNotFoundError\u001b[0m                       Traceback (most recent call last)",
      "Cell \u001b[1;32mIn[1], line 2\u001b[0m\n\u001b[0;32m      1\u001b[0m \u001b[38;5;28;01mimport\u001b[39;00m \u001b[38;5;21;01mpandas\u001b[39;00m \u001b[38;5;28;01mas\u001b[39;00m \u001b[38;5;21;01mpd\u001b[39;00m\n\u001b[1;32m----> 2\u001b[0m \u001b[38;5;28;01mfrom\u001b[39;00m \u001b[38;5;21;01msklearn\u001b[39;00m \u001b[38;5;28;01mimport\u001b[39;00m NearestNeighbors\n\u001b[0;32m      3\u001b[0m \u001b[38;5;28;01mfrom\u001b[39;00m \u001b[38;5;21;01msklearn\u001b[39;00m\u001b[38;5;21;01m.\u001b[39;00m\u001b[38;5;21;01mpreprocessing\u001b[39;00m \u001b[38;5;28;01mimport\u001b[39;00m StandardScaler\n\u001b[0;32m      4\u001b[0m \u001b[38;5;28;01mfrom\u001b[39;00m \u001b[38;5;21;01msklearn\u001b[39;00m\u001b[38;5;21;01m.\u001b[39;00m\u001b[38;5;21;01mmetrics\u001b[39;00m\u001b[38;5;21;01m.\u001b[39;00m\u001b[38;5;21;01mpairwise\u001b[39;00m \u001b[38;5;28;01mimport\u001b[39;00m cosine_similarity\n",
      "\u001b[1;31mModuleNotFoundError\u001b[0m: No module named 'sklearn'"
     ]
    }
   ],
   "source": [
    "import pandas as pd\n",
    "from sklearn import NearestNeighbors\n",
    "from sklearn.preprocessing import StandardScaler\n",
    "from sklearn.metrics.pairwise import cosine_similarity\n",
    "\n",
    "file_path = \"../data/processed/df_movie_cleaned.csv\"\n",
    "df_movie = pd.read_csv(file_path)"
   ]
  },
  {
   "cell_type": "code",
   "execution_count": null,
   "metadata": {},
   "outputs": [],
   "source": [
    "features = ['Genres', 'Popularité', 'Note', 'Votes']"
   ]
  }
 ],
 "metadata": {
  "kernelspec": {
   "display_name": "Python 3",
   "language": "python",
   "name": "python3"
  },
  "language_info": {
   "codemirror_mode": {
    "name": "ipython",
    "version": 3
   },
   "file_extension": ".py",
   "mimetype": "text/x-python",
   "name": "python",
   "nbconvert_exporter": "python",
   "pygments_lexer": "ipython3",
   "version": "3.12.7"
  }
 },
 "nbformat": 4,
 "nbformat_minor": 2
}
