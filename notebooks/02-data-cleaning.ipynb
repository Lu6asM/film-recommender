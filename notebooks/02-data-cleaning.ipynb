{
 "cells": [
  {
   "cell_type": "markdown",
   "metadata": {},
   "source": [
    "# **DataFrame Films**"
   ]
  },
  {
   "cell_type": "markdown",
   "metadata": {
    "id": "GQfW5fB61PGI"
   },
   "source": [
    "## **Importations datasets**"
   ]
  },
  {
   "cell_type": "code",
   "execution_count": 1,
   "metadata": {},
   "outputs": [
    {
     "name": "stderr",
     "output_type": "stream",
     "text": [
      "C:\\Users\\koke7\\AppData\\Local\\Temp\\ipykernel_31300\\2730036939.py:6: DtypeWarning: Columns (7) have mixed types. Specify dtype option on import or set low_memory=False.\n",
      "  df_title_basics = pd.read_csv('https://datasets.imdbws.com/title.basics.tsv.gz', sep = '\\t', compression='gzip', na_values='\\\\N')\n",
      "C:\\Users\\koke7\\AppData\\Local\\Temp\\ipykernel_31300\\2730036939.py:10: DtypeWarning: Columns (6) have mixed types. Specify dtype option on import or set low_memory=False.\n",
      "  df_title_akas = pd.read_csv('https://datasets.imdbws.com/title.akas.tsv.gz', sep = '\\t', compression='gzip', na_values='\\\\N')\n"
     ]
    }
   ],
   "source": [
    "import pandas as pd\n",
    "#! === IMPORT ===\n",
    "\n",
    "\n",
    "#* Les datasets importants\n",
    "df_title_basics = pd.read_csv('https://datasets.imdbws.com/title.basics.tsv.gz', sep = '\\t', compression='gzip', na_values='\\\\N')\n",
    "df_title_ratings = pd.read_csv('https://datasets.imdbws.com/title.ratings.tsv.gz', sep = '\\t', compression='gzip', na_values='\\\\N')\n",
    "\n",
    "#* Les datasets intéressants\n",
    "df_title_akas = pd.read_csv('https://datasets.imdbws.com/title.akas.tsv.gz', sep = '\\t', compression='gzip', na_values='\\\\N')\n",
    "df_title_crew = pd.read_csv('https://datasets.imdbws.com/title.crew.tsv.gz', sep = '\\t', compression='gzip', na_values='\\\\N')\n",
    "df_name_basics = pd.read_csv('https://datasets.imdbws.com/name.basics.tsv.gz', sep = '\\t', compression='gzip', na_values='\\\\N')\n",
    "df_title_principals = pd.read_csv('https://datasets.imdbws.com/title.principals.tsv.gz', sep='\\t', compression='gzip', na_values='\\\\N')"
   ]
  },
  {
   "cell_type": "markdown",
   "metadata": {},
   "source": [
    "## **Initialisation Principal**"
   ]
  },
  {
   "cell_type": "code",
   "execution_count": null,
   "metadata": {},
   "outputs": [],
   "source": [
    "\n",
    "#! === SETUP ===\n",
    "#? title_basics\n",
    "\n",
    "#* Garder uniquement les films\n",
    "df_title_basics_clean = df_title_basics[df_title_basics['titleType'] == 'movie']\n",
    "\n",
    "#* Supprimer les lignes avec des données manquantes essentielles\n",
    "df_title_basics_clean = df_title_basics_clean.dropna(subset=['startYear', 'genres'])\n",
    "\n",
    "#* Convertir startYear en entier et filtrer les années valides\n",
    "df_title_basics_clean['startYear'] = df_title_basics_clean['startYear'].astype(int)\n",
    "df_title_basics_clean = df_title_basics_clean[(df_title_basics_clean['startYear'] >= 1970) & (df_title_basics_clean['startYear'] <= 2024)]\n",
    "\n",
    "#* Garder les colonnes essentiels\n",
    "df_title_basics_clean = df_title_basics_clean[['tconst', 'primaryTitle', 'startYear', 'genres', 'runtimeMinutes']]\n",
    "\n",
    "\n",
    "\n",
    "#! === SETUP ===\n",
    "#? title_rating\n",
    "\n",
    "#* Supprimer les films avec peu de votes\n",
    "df_title_ratings_clean = df_title_ratings[df_title_ratings['numVotes'] > 1000]\n",
    "\n",
    "\n",
    "\n",
    "#! === SETUP ===\n",
    "#? title_akas\n",
    "\n",
    "#* Garder uniquement les titres de film français\n",
    "df_title_akas_clean = df_title_akas[df_title_akas['region'] == 'FR']\n",
    "\n",
    "#* Garder les colonnes essentiels\n",
    "df_title_akas_clean = df_title_akas_clean[['titleId', 'title']]\n",
    "\n",
    "#* Renommer l'identifiant\n",
    "df_title_akas_clean.rename(columns={'titleId' : 'tconst'}, inplace=True)\n",
    "\n",
    "\n",
    "\n",
    "#! === SETUP ===\n",
    "#? title_crew\n",
    "\n",
    "#* Remplir les valeurs manquantes avec un indicateur, par exemple 'Unknown'\n",
    "df_title_crew_clean = df_title_crew.fillna({'directors': 'Unknown'})\n",
    "\n",
    "#* Transformer la colonne 'directors' en une liste\n",
    "df_title_crew_clean['directors'] = df_title_crew_clean['directors'].str.split(',')\n",
    "\n",
    "#* Exploser la colonne 'directors' en lignes individuelles\n",
    "df_title_crew_clean = df_title_crew_clean.explode('directors')\n",
    "\n",
    "#* Fusionner les 'directors' avec 'name_basics' pour obtenir les 'primaryName'\n",
    "title_crew_with_directors = df_title_crew_clean.merge(df_name_basics[['nconst', 'primaryName']], \n",
    "                                                     how='left', \n",
    "                                                     left_on='directors', \n",
    "                                                     right_on='nconst')\n",
    "\n",
    "#* Regrouper les résultats par 'tconst' pour remettre les réalisateurs sous forme de liste\n",
    "title_crew_with_directors = title_crew_with_directors.groupby('tconst')['primaryName'].apply(list).reset_index()\n",
    "\n",
    "\n",
    "\n",
    "#! === SETUP ===\n",
    "#? title_principals\n",
    "\n",
    "#* Supprimer les lignes avec des valeurs manquantes dans 'category'\n",
    "df_title_principals_clean = df_title_principals.dropna(subset=['category'])\n",
    "\n",
    "#* Filtrer les acteurs dans title.principals\n",
    "df_title_principals_clean = df_title_principals_clean[df_title_principals_clean['category'] == 'actor']\n",
    "\n",
    "#* Fusionner avec name.basics pour obtenir les noms des acteurs\n",
    "actors_with_names = pd.merge(df_title_principals_clean, df_name_basics[['nconst', 'primaryName']], on='nconst', how='left')\n",
    "\n",
    "#* Créer une liste d'acteurs par film\n",
    "actors_list_per_film = actors_with_names.groupby('tconst')['primaryName'].apply(list).reset_index()"
   ]
  },
  {
   "cell_type": "markdown",
   "metadata": {},
   "source": [
    "## **Fusion Principal**"
   ]
  },
  {
   "cell_type": "code",
   "execution_count": null,
   "metadata": {},
   "outputs": [],
   "source": [
    "\n",
    "#! === MERGEUP ===\n",
    "\n",
    "\n",
    "#* Merge de title_basics & title_ratings\n",
    "df_merged_v1 = df_title_basics_clean.merge(df_title_ratings_clean, on=\"tconst\")\n",
    "\n",
    "#* Merge de df_merged_v1 & df_title_akas\n",
    "df_merged_v2 = df_merged_v1.merge(df_title_akas_clean, on='tconst', how='left')\n",
    "\n",
    "#* Merge de df_merged_v2 & title_crew_with_directors\n",
    "df_merged_v3 = df_merged_v2.merge(title_crew_with_directors, on='tconst', how='left')\n",
    "\n",
    "#* Merge de df_merged_v3 & actors_list_per_film\n",
    "df_merged_v3['Acteurs'] = df_merged_v3['tconst'].map(dict(zip(actors_list_per_film['tconst'], actors_list_per_film['primaryName'])))"
   ]
  },
  {
   "cell_type": "markdown",
   "metadata": {},
   "source": [
    "## **Exportation**"
   ]
  },
  {
   "cell_type": "code",
   "execution_count": 11,
   "metadata": {},
   "outputs": [],
   "source": [
    "\n",
    "#! === EXPORT ===\n",
    "\n",
    "\n",
    "df_merged_v3.to_csv(\"../data/raw/df_movie.csv\", index=False)"
   ]
  },
  {
   "cell_type": "markdown",
   "metadata": {},
   "source": [
    "## **Importation**"
   ]
  },
  {
   "cell_type": "code",
   "execution_count": 1,
   "metadata": {},
   "outputs": [],
   "source": [
    "import pandas as pd\n",
    "\n",
    "#! === IMPORT ===\n",
    "\n",
    "\n",
    "file_path = \"../data/raw/df_movie.csv\"\n",
    "\n",
    "df_movie = pd.read_csv(file_path)"
   ]
  },
  {
   "cell_type": "markdown",
   "metadata": {},
   "source": [
    "## **Renommer les colonnes**"
   ]
  },
  {
   "cell_type": "code",
   "execution_count": 2,
   "metadata": {},
   "outputs": [],
   "source": [
    "\n",
    "#! === RENAMEUP ===\n",
    "\n",
    "\n",
    "#* Renommer les colonnes de title_basics\n",
    "df_movie.rename(columns={'tconst': 'ID',\n",
    "                         'primaryTitle': 'Titre Original',\n",
    "                         'startYear': 'Année',\n",
    "                         'genres':  'Genres', \n",
    "                         'runtimeMinutes': 'Durée (minutes)',\n",
    "                         'averageRating': 'Note',\n",
    "                         'numVotes': 'Votes',\n",
    "                         'title': 'Titre Français',\n",
    "                         'primaryName': 'Réalisateur(s)'}, inplace=True)"
   ]
  },
  {
   "cell_type": "markdown",
   "metadata": {},
   "source": [
    "## **Ajout de données supplémentaires**"
   ]
  },
  {
   "cell_type": "code",
   "execution_count": 3,
   "metadata": {},
   "outputs": [],
   "source": [
    "\n",
    "#! === ADDUP ===\n",
    "\n",
    "\n",
    "#* Ajout de la colonne 'popularité'\n",
    "def categorize_votes(votes):\n",
    "    if votes < 25000:\n",
    "        return \"Connu\"\n",
    "    elif 25000 <= votes < 100000:\n",
    "        return \"Populaire\"\n",
    "    elif 100000 <= votes < 500000:\n",
    "        return \"Très populaire\"\n",
    "    else:\n",
    "        return \"Blockbuster\"\n",
    "\n",
    "df_movie['Popularité'] = df_movie['Votes'].apply(categorize_votes)\n",
    "\n",
    "#* Ajout de la colonne \"métrage\"\n",
    "def categorize_times(duree):\n",
    "    if duree < 60:\n",
    "        return \"Court-métrage\"\n",
    "    elif 60 <= duree <= 90:\n",
    "        return \"Moyen-métrage\"\n",
    "    else:\n",
    "        return \"Long-métrage\"\n",
    "\n",
    "df_movie['Métrage'] = df_movie['Durée (minutes)'].apply(categorize_times)\n",
    "\n",
    "#* Ajout de la colonne décennie\n",
    "def categorize_years(year):\n",
    "    if 1970 <= year <= 1979:\n",
    "        return \"70°s\"\n",
    "    if 1980 <= year <= 1989:\n",
    "        return \"80°s\"\n",
    "    if 1990 <= year <= 1999:\n",
    "        return \"90°s\"\n",
    "    if 2000 <= year <= 2009:\n",
    "        return \"2000\"\n",
    "    if 2010 <= year <= 2019:\n",
    "        return \"2010\"\n",
    "    if 2020 <= year <= 2029:\n",
    "        return \"2020\"\n",
    "\n",
    "df_movie['Décennie'] = df_movie['Année'].apply(categorize_years)\n",
    "\n",
    "#* Repositionner les colonnes\n",
    "df_movie = df_movie[['ID', 'Réalisateur(s)', 'Titre Original', 'Titre Français', 'Métrage', 'Durée (minutes)', 'Année', 'Décennie', 'Genres', 'Note', 'Votes', 'Popularité', 'Acteurs']]"
   ]
  },
  {
   "cell_type": "markdown",
   "metadata": {},
   "source": [
    "## **Processus de nettoyage**"
   ]
  },
  {
   "cell_type": "code",
   "execution_count": 5,
   "metadata": {},
   "outputs": [],
   "source": [
    "\n",
    "#! === CLEANUP V1 ===\n",
    "\n",
    "\n",
    "#* Supprimer les doublons\n",
    "df_movie_cleaned_v1 = df_movie.drop_duplicates(subset='ID')\n",
    "\n",
    "#* Supprimer les films avec moins de 15 000 votes\n",
    "df_movie_cleaned_v1 = df_movie_cleaned_v1[df_movie_cleaned_v1['Votes'] > 15000]\n",
    "\n",
    "#* Remplacer les valeurs manquantes dans 'Titre Français' par les valeurs de 'Titre'\n",
    "df_movie_cleaned_v1['Titre Français'] = df_movie_cleaned_v1['Titre Français'].fillna(df_movie_cleaned_v1['Titre Original'])"
   ]
  },
  {
   "cell_type": "code",
   "execution_count": 6,
   "metadata": {},
   "outputs": [],
   "source": [
    "\n",
    "#! === CLEANUP V2 ===\n",
    "\n",
    "\n",
    "#* Supprimer les films avec une note inférieur à 5\n",
    "df_movie_cleaned_v2 = df_movie_cleaned_v1[df_movie_cleaned_v1['Note'] > 5]\n",
    "\n",
    "#* Supprimer les films avec une note inférieur à 8 et sortis avant 2000\n",
    "df_movie_cleaned_v2 = df_movie_cleaned_v2[~((df_movie_cleaned_v2['Note'] < 8) & (df_movie_cleaned_v2['Année'] < 2000))]"
   ]
  },
  {
   "cell_type": "markdown",
   "metadata": {},
   "source": [
    "## **Exportation**"
   ]
  },
  {
   "cell_type": "code",
   "execution_count": 7,
   "metadata": {},
   "outputs": [],
   "source": [
    "\n",
    "#! === EXPORT ===\n",
    "\n",
    "df_movie_cleaned_v2.to_csv(\"../data/processed/df_movie_cleaned.csv\", index=False)"
   ]
  }
 ],
 "metadata": {
  "colab": {
   "provenance": [],
   "toc_visible": true
  },
  "kernelspec": {
   "display_name": "Python 3",
   "name": "python3"
  },
  "language_info": {
   "codemirror_mode": {
    "name": "ipython",
    "version": 3
   },
   "file_extension": ".py",
   "mimetype": "text/x-python",
   "name": "python",
   "nbconvert_exporter": "python",
   "pygments_lexer": "ipython3",
   "version": "3.12.7"
  }
 },
 "nbformat": 4,
 "nbformat_minor": 0
}
