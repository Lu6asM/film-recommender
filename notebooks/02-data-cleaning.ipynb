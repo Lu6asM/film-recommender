{
 "cells": [
  {
   "cell_type": "markdown",
   "metadata": {
    "id": "GQfW5fB61PGI"
   },
   "source": [
    "# **Importations datasets**"
   ]
  },
  {
   "cell_type": "code",
   "execution_count": 2,
   "metadata": {},
   "outputs": [
    {
     "ename": "MemoryError",
     "evalue": "Unable to allocate 86.0 MiB for an array with shape (11270719,) and data type object",
     "output_type": "error",
     "traceback": [
      "\u001b[1;31m---------------------------------------------------------------------------\u001b[0m",
      "\u001b[1;31mMemoryError\u001b[0m                               Traceback (most recent call last)",
      "Cell \u001b[1;32mIn[2], line 6\u001b[0m\n\u001b[0;32m      1\u001b[0m \u001b[38;5;28;01mimport\u001b[39;00m \u001b[38;5;21;01mpandas\u001b[39;00m \u001b[38;5;28;01mas\u001b[39;00m \u001b[38;5;21;01mpd\u001b[39;00m\n\u001b[0;32m      2\u001b[0m \u001b[38;5;66;03m#! === IMPORT ===\u001b[39;00m\n\u001b[0;32m      3\u001b[0m \n\u001b[0;32m      4\u001b[0m \n\u001b[0;32m      5\u001b[0m \u001b[38;5;66;03m#* Les datasets importants\u001b[39;00m\n\u001b[1;32m----> 6\u001b[0m df_title_basics \u001b[38;5;241m=\u001b[39m \u001b[43mpd\u001b[49m\u001b[38;5;241;43m.\u001b[39;49m\u001b[43mread_csv\u001b[49m\u001b[43m(\u001b[49m\u001b[38;5;124;43m'\u001b[39;49m\u001b[38;5;124;43mhttps://datasets.imdbws.com/title.basics.tsv.gz\u001b[39;49m\u001b[38;5;124;43m'\u001b[39;49m\u001b[43m,\u001b[49m\u001b[43m \u001b[49m\u001b[43msep\u001b[49m\u001b[43m \u001b[49m\u001b[38;5;241;43m=\u001b[39;49m\u001b[43m \u001b[49m\u001b[38;5;124;43m'\u001b[39;49m\u001b[38;5;130;43;01m\\t\u001b[39;49;00m\u001b[38;5;124;43m'\u001b[39;49m\u001b[43m,\u001b[49m\u001b[43m \u001b[49m\u001b[43mcompression\u001b[49m\u001b[38;5;241;43m=\u001b[39;49m\u001b[38;5;124;43m'\u001b[39;49m\u001b[38;5;124;43mgzip\u001b[39;49m\u001b[38;5;124;43m'\u001b[39;49m\u001b[43m,\u001b[49m\u001b[43m \u001b[49m\u001b[43mna_values\u001b[49m\u001b[38;5;241;43m=\u001b[39;49m\u001b[38;5;124;43m'\u001b[39;49m\u001b[38;5;130;43;01m\\\\\u001b[39;49;00m\u001b[38;5;124;43mN\u001b[39;49m\u001b[38;5;124;43m'\u001b[39;49m\u001b[43m)\u001b[49m\n\u001b[0;32m      7\u001b[0m df_title_ratings \u001b[38;5;241m=\u001b[39m pd\u001b[38;5;241m.\u001b[39mread_csv(\u001b[38;5;124m'\u001b[39m\u001b[38;5;124mhttps://datasets.imdbws.com/title.ratings.tsv.gz\u001b[39m\u001b[38;5;124m'\u001b[39m, sep \u001b[38;5;241m=\u001b[39m \u001b[38;5;124m'\u001b[39m\u001b[38;5;130;01m\\t\u001b[39;00m\u001b[38;5;124m'\u001b[39m, compression\u001b[38;5;241m=\u001b[39m\u001b[38;5;124m'\u001b[39m\u001b[38;5;124mgzip\u001b[39m\u001b[38;5;124m'\u001b[39m, na_values\u001b[38;5;241m=\u001b[39m\u001b[38;5;124m'\u001b[39m\u001b[38;5;130;01m\\\\\u001b[39;00m\u001b[38;5;124mN\u001b[39m\u001b[38;5;124m'\u001b[39m)\n\u001b[0;32m      9\u001b[0m \u001b[38;5;66;03m#* Les datasets intéressants\u001b[39;00m\n",
      "File \u001b[1;32mc:\\Users\\koke7\\AppData\\Local\\Programs\\Python\\Python312\\Lib\\site-packages\\pandas\\io\\parsers\\readers.py:1026\u001b[0m, in \u001b[0;36mread_csv\u001b[1;34m(filepath_or_buffer, sep, delimiter, header, names, index_col, usecols, dtype, engine, converters, true_values, false_values, skipinitialspace, skiprows, skipfooter, nrows, na_values, keep_default_na, na_filter, verbose, skip_blank_lines, parse_dates, infer_datetime_format, keep_date_col, date_parser, date_format, dayfirst, cache_dates, iterator, chunksize, compression, thousands, decimal, lineterminator, quotechar, quoting, doublequote, escapechar, comment, encoding, encoding_errors, dialect, on_bad_lines, delim_whitespace, low_memory, memory_map, float_precision, storage_options, dtype_backend)\u001b[0m\n\u001b[0;32m   1013\u001b[0m kwds_defaults \u001b[38;5;241m=\u001b[39m _refine_defaults_read(\n\u001b[0;32m   1014\u001b[0m     dialect,\n\u001b[0;32m   1015\u001b[0m     delimiter,\n\u001b[1;32m   (...)\u001b[0m\n\u001b[0;32m   1022\u001b[0m     dtype_backend\u001b[38;5;241m=\u001b[39mdtype_backend,\n\u001b[0;32m   1023\u001b[0m )\n\u001b[0;32m   1024\u001b[0m kwds\u001b[38;5;241m.\u001b[39mupdate(kwds_defaults)\n\u001b[1;32m-> 1026\u001b[0m \u001b[38;5;28;01mreturn\u001b[39;00m \u001b[43m_read\u001b[49m\u001b[43m(\u001b[49m\u001b[43mfilepath_or_buffer\u001b[49m\u001b[43m,\u001b[49m\u001b[43m \u001b[49m\u001b[43mkwds\u001b[49m\u001b[43m)\u001b[49m\n",
      "File \u001b[1;32mc:\\Users\\koke7\\AppData\\Local\\Programs\\Python\\Python312\\Lib\\site-packages\\pandas\\io\\parsers\\readers.py:626\u001b[0m, in \u001b[0;36m_read\u001b[1;34m(filepath_or_buffer, kwds)\u001b[0m\n\u001b[0;32m    623\u001b[0m     \u001b[38;5;28;01mreturn\u001b[39;00m parser\n\u001b[0;32m    625\u001b[0m \u001b[38;5;28;01mwith\u001b[39;00m parser:\n\u001b[1;32m--> 626\u001b[0m     \u001b[38;5;28;01mreturn\u001b[39;00m \u001b[43mparser\u001b[49m\u001b[38;5;241;43m.\u001b[39;49m\u001b[43mread\u001b[49m\u001b[43m(\u001b[49m\u001b[43mnrows\u001b[49m\u001b[43m)\u001b[49m\n",
      "File \u001b[1;32mc:\\Users\\koke7\\AppData\\Local\\Programs\\Python\\Python312\\Lib\\site-packages\\pandas\\io\\parsers\\readers.py:1923\u001b[0m, in \u001b[0;36mTextFileReader.read\u001b[1;34m(self, nrows)\u001b[0m\n\u001b[0;32m   1916\u001b[0m nrows \u001b[38;5;241m=\u001b[39m validate_integer(\u001b[38;5;124m\"\u001b[39m\u001b[38;5;124mnrows\u001b[39m\u001b[38;5;124m\"\u001b[39m, nrows)\n\u001b[0;32m   1917\u001b[0m \u001b[38;5;28;01mtry\u001b[39;00m:\n\u001b[0;32m   1918\u001b[0m     \u001b[38;5;66;03m# error: \"ParserBase\" has no attribute \"read\"\u001b[39;00m\n\u001b[0;32m   1919\u001b[0m     (\n\u001b[0;32m   1920\u001b[0m         index,\n\u001b[0;32m   1921\u001b[0m         columns,\n\u001b[0;32m   1922\u001b[0m         col_dict,\n\u001b[1;32m-> 1923\u001b[0m     ) \u001b[38;5;241m=\u001b[39m \u001b[38;5;28;43mself\u001b[39;49m\u001b[38;5;241;43m.\u001b[39;49m\u001b[43m_engine\u001b[49m\u001b[38;5;241;43m.\u001b[39;49m\u001b[43mread\u001b[49m\u001b[43m(\u001b[49m\u001b[43m  \u001b[49m\u001b[38;5;66;43;03m# type: ignore[attr-defined]\u001b[39;49;00m\n\u001b[0;32m   1924\u001b[0m \u001b[43m        \u001b[49m\u001b[43mnrows\u001b[49m\n\u001b[0;32m   1925\u001b[0m \u001b[43m    \u001b[49m\u001b[43m)\u001b[49m\n\u001b[0;32m   1926\u001b[0m \u001b[38;5;28;01mexcept\u001b[39;00m \u001b[38;5;167;01mException\u001b[39;00m:\n\u001b[0;32m   1927\u001b[0m     \u001b[38;5;28mself\u001b[39m\u001b[38;5;241m.\u001b[39mclose()\n",
      "File \u001b[1;32mc:\\Users\\koke7\\AppData\\Local\\Programs\\Python\\Python312\\Lib\\site-packages\\pandas\\io\\parsers\\c_parser_wrapper.py:236\u001b[0m, in \u001b[0;36mCParserWrapper.read\u001b[1;34m(self, nrows)\u001b[0m\n\u001b[0;32m    234\u001b[0m     chunks \u001b[38;5;241m=\u001b[39m \u001b[38;5;28mself\u001b[39m\u001b[38;5;241m.\u001b[39m_reader\u001b[38;5;241m.\u001b[39mread_low_memory(nrows)\n\u001b[0;32m    235\u001b[0m     \u001b[38;5;66;03m# destructive to chunks\u001b[39;00m\n\u001b[1;32m--> 236\u001b[0m     data \u001b[38;5;241m=\u001b[39m \u001b[43m_concatenate_chunks\u001b[49m\u001b[43m(\u001b[49m\u001b[43mchunks\u001b[49m\u001b[43m)\u001b[49m\n\u001b[0;32m    238\u001b[0m \u001b[38;5;28;01melse\u001b[39;00m:\n\u001b[0;32m    239\u001b[0m     data \u001b[38;5;241m=\u001b[39m \u001b[38;5;28mself\u001b[39m\u001b[38;5;241m.\u001b[39m_reader\u001b[38;5;241m.\u001b[39mread(nrows)\n",
      "File \u001b[1;32mc:\\Users\\koke7\\AppData\\Local\\Programs\\Python\\Python312\\Lib\\site-packages\\pandas\\io\\parsers\\c_parser_wrapper.py:376\u001b[0m, in \u001b[0;36m_concatenate_chunks\u001b[1;34m(chunks)\u001b[0m\n\u001b[0;32m    374\u001b[0m     result[name] \u001b[38;5;241m=\u001b[39m union_categoricals(arrs, sort_categories\u001b[38;5;241m=\u001b[39m\u001b[38;5;28;01mFalse\u001b[39;00m)\n\u001b[0;32m    375\u001b[0m \u001b[38;5;28;01melse\u001b[39;00m:\n\u001b[1;32m--> 376\u001b[0m     result[name] \u001b[38;5;241m=\u001b[39m \u001b[43mconcat_compat\u001b[49m\u001b[43m(\u001b[49m\u001b[43marrs\u001b[49m\u001b[43m)\u001b[49m\n\u001b[0;32m    377\u001b[0m     \u001b[38;5;28;01mif\u001b[39;00m \u001b[38;5;28mlen\u001b[39m(non_cat_dtypes) \u001b[38;5;241m>\u001b[39m \u001b[38;5;241m1\u001b[39m \u001b[38;5;129;01mand\u001b[39;00m result[name]\u001b[38;5;241m.\u001b[39mdtype \u001b[38;5;241m==\u001b[39m np\u001b[38;5;241m.\u001b[39mdtype(\u001b[38;5;28mobject\u001b[39m):\n\u001b[0;32m    378\u001b[0m         warning_columns\u001b[38;5;241m.\u001b[39mappend(\u001b[38;5;28mstr\u001b[39m(name))\n",
      "File \u001b[1;32mc:\\Users\\koke7\\AppData\\Local\\Programs\\Python\\Python312\\Lib\\site-packages\\pandas\\core\\dtypes\\concat.py:78\u001b[0m, in \u001b[0;36mconcat_compat\u001b[1;34m(to_concat, axis, ea_compat_axis)\u001b[0m\n\u001b[0;32m     76\u001b[0m \u001b[38;5;28;01mif\u001b[39;00m \u001b[38;5;28misinstance\u001b[39m(obj, np\u001b[38;5;241m.\u001b[39mndarray):\n\u001b[0;32m     77\u001b[0m     to_concat_arrs \u001b[38;5;241m=\u001b[39m cast(\u001b[38;5;124m\"\u001b[39m\u001b[38;5;124mSequence[np.ndarray]\u001b[39m\u001b[38;5;124m\"\u001b[39m, to_concat)\n\u001b[1;32m---> 78\u001b[0m     \u001b[38;5;28;01mreturn\u001b[39;00m \u001b[43mnp\u001b[49m\u001b[38;5;241;43m.\u001b[39;49m\u001b[43mconcatenate\u001b[49m\u001b[43m(\u001b[49m\u001b[43mto_concat_arrs\u001b[49m\u001b[43m,\u001b[49m\u001b[43m \u001b[49m\u001b[43maxis\u001b[49m\u001b[38;5;241;43m=\u001b[39;49m\u001b[43maxis\u001b[49m\u001b[43m)\u001b[49m\n\u001b[0;32m     80\u001b[0m to_concat_eas \u001b[38;5;241m=\u001b[39m cast(\u001b[38;5;124m\"\u001b[39m\u001b[38;5;124mSequence[ExtensionArray]\u001b[39m\u001b[38;5;124m\"\u001b[39m, to_concat)\n\u001b[0;32m     81\u001b[0m \u001b[38;5;28;01mif\u001b[39;00m ea_compat_axis:\n\u001b[0;32m     82\u001b[0m     \u001b[38;5;66;03m# We have 1D objects, that don't support axis keyword\u001b[39;00m\n",
      "\u001b[1;31mMemoryError\u001b[0m: Unable to allocate 86.0 MiB for an array with shape (11270719,) and data type object"
     ]
    }
   ],
   "source": [
    "import pandas as pd\n",
    "#! === IMPORT ===\n",
    "\n",
    "\n",
    "#* Les datasets importants\n",
    "df_title_basics = pd.read_csv('https://datasets.imdbws.com/title.basics.tsv.gz', sep = '\\t', compression='gzip', na_values='\\\\N')\n",
    "df_title_ratings = pd.read_csv('https://datasets.imdbws.com/title.ratings.tsv.gz', sep = '\\t', compression='gzip', na_values='\\\\N')\n",
    "\n",
    "#* Les datasets intéressants\n",
    "df_title_akas = pd.read_csv('https://datasets.imdbws.com/title.akas.tsv.gz', sep = '\\t', compression='gzip', na_values='\\\\N')\n",
    "df_title_crew = pd.read_csv('https://datasets.imdbws.com/title.crew.tsv.gz', sep = '\\t', compression='gzip', na_values='\\\\N')\n",
    "df_name_basics = pd.read_csv('https://datasets.imdbws.com/name.basics.tsv.gz', sep = '\\t', compression='gzip', na_values='\\\\N')"
   ]
  },
  {
   "cell_type": "markdown",
   "metadata": {},
   "source": [
    "# **Initialisation Principal**"
   ]
  },
  {
   "cell_type": "code",
   "execution_count": 1,
   "metadata": {},
   "outputs": [
    {
     "ename": "NameError",
     "evalue": "name 'df_title_basics' is not defined",
     "output_type": "error",
     "traceback": [
      "\u001b[1;31m---------------------------------------------------------------------------\u001b[0m",
      "\u001b[1;31mNameError\u001b[0m                                 Traceback (most recent call last)",
      "Cell \u001b[1;32mIn[1], line 5\u001b[0m\n\u001b[0;32m      1\u001b[0m \u001b[38;5;66;03m#! === SETUP ===\u001b[39;00m\n\u001b[0;32m      2\u001b[0m \u001b[38;5;66;03m#? title_basics\u001b[39;00m\n\u001b[0;32m      3\u001b[0m \n\u001b[0;32m      4\u001b[0m \u001b[38;5;66;03m#* Garder uniquement les films\u001b[39;00m\n\u001b[1;32m----> 5\u001b[0m df_title_basics_clean \u001b[38;5;241m=\u001b[39m \u001b[43mdf_title_basics\u001b[49m[df_title_basics[\u001b[38;5;124m'\u001b[39m\u001b[38;5;124mtitleType\u001b[39m\u001b[38;5;124m'\u001b[39m] \u001b[38;5;241m==\u001b[39m \u001b[38;5;124m'\u001b[39m\u001b[38;5;124mmovie\u001b[39m\u001b[38;5;124m'\u001b[39m]\n\u001b[0;32m      7\u001b[0m \u001b[38;5;66;03m#* Supprimer les lignes avec des données manquantes essentielles\u001b[39;00m\n\u001b[0;32m      8\u001b[0m df_title_basics_clean \u001b[38;5;241m=\u001b[39m df_title_basics_clean\u001b[38;5;241m.\u001b[39mdropna(subset\u001b[38;5;241m=\u001b[39m[\u001b[38;5;124m'\u001b[39m\u001b[38;5;124mstartYear\u001b[39m\u001b[38;5;124m'\u001b[39m, \u001b[38;5;124m'\u001b[39m\u001b[38;5;124mgenres\u001b[39m\u001b[38;5;124m'\u001b[39m])\n",
      "\u001b[1;31mNameError\u001b[0m: name 'df_title_basics' is not defined"
     ]
    }
   ],
   "source": [
    "\n",
    "#! === SETUP ===\n",
    "#? title_basics\n",
    "\n",
    "#* Garder uniquement les films\n",
    "df_title_basics_clean = df_title_basics[df_title_basics['titleType'] == 'movie']\n",
    "\n",
    "#* Supprimer les lignes avec des données manquantes essentielles\n",
    "df_title_basics_clean = df_title_basics_clean.dropna(subset=['startYear', 'genres'])\n",
    "\n",
    "#* Convertir startYear en entier et filtrer les années valides\n",
    "df_title_basics_clean['startYear'] = df_title_basics_clean['startYear'].astype(int)\n",
    "df_title_basics_clean = df_title_basics_clean[(df_title_basics_clean['startYear'] >= 1970) & (df_title_basics_clean['startYear'] <= 2024)]\n",
    "\n",
    "#* Garder les colonnes essentiels\n",
    "df_title_basics_clean = df_title_basics_clean[['tconst', 'primaryTitle', 'startYear', 'genres']]\n",
    "\n",
    "\n",
    "\n",
    "#! === SETUP ===\n",
    "#? title_rating\n",
    "\n",
    "#* Supprimer les films avec peu de votes\n",
    "df_title_ratings_clean = df_title_ratings[df_title_ratings['numVotes'] > 1000]\n",
    "\n",
    "\n",
    "\n",
    "#! === SETUP ===\n",
    "#? title_akas\n",
    "\n",
    "#* Garder uniquement les titres de film français\n",
    "df_title_akas_clean = df_title_akas[df_title_akas['region'] == 'FR']\n",
    "\n",
    "#* Garder les colonnes essentiels\n",
    "df_title_akas_clean = df_title_akas_clean[['titleId', 'title']]\n",
    "\n",
    "\n",
    "\n",
    "#! === SETUP ===\n",
    "#? title_crew & name_basics\n",
    "\n",
    "#* Supprimer les lignes avec des valeurs manquantes dans 'directors'\n",
    "df_title_crew_clean = df_title_crew.dropna(subset=['directors'])\n",
    "\n",
    "#* Remplir les valeurs manquantes avec un indicateur, par exemple 'Unknown'\n",
    "df_title_crew_clean = df_title_crew_clean.fillna({'directors': 'Unknown'})\n",
    "\n",
    "#* Transformer la colonne 'directors' en une liste\n",
    "df_title_crew_clean['directors'] = df_title_crew_clean['directors'].str.split(',')\n",
    "\n",
    "#* Exploser la colonne 'directors' en lignes individuelles\n",
    "df_title_crew_clean = df_title_crew_clean.explode('directors')\n",
    "\n",
    "#* Fusionner les 'directors' avec 'name_basics' pour obtenir les 'primaryName'\n",
    "title_crew_with_directors = df_title_crew_clean.merge(df_name_basics[['nconst', 'primaryName']], \n",
    "                                                     how='left', \n",
    "                                                     left_on='directors', \n",
    "                                                     right_on='nconst')\n",
    "\n",
    "#* Regrouper les résultats par 'tconst' pour remettre les réalisateurs sous forme de liste\n",
    "title_crew_with_directors = title_crew_with_directors.groupby('tconst')['primaryName'].apply(list).reset_index()"
   ]
  },
  {
   "cell_type": "markdown",
   "metadata": {},
   "source": [
    "# **Renommer les colonnes**"
   ]
  },
  {
   "cell_type": "code",
   "execution_count": 3,
   "metadata": {},
   "outputs": [
    {
     "name": "stderr",
     "output_type": "stream",
     "text": [
      "C:\\Users\\koke7\\AppData\\Local\\Temp\\ipykernel_27592\\1864161527.py:11: SettingWithCopyWarning: \n",
      "A value is trying to be set on a copy of a slice from a DataFrame\n",
      "\n",
      "See the caveats in the documentation: https://pandas.pydata.org/pandas-docs/stable/user_guide/indexing.html#returning-a-view-versus-a-copy\n",
      "  df_title_ratings_clean.rename(columns={'tconst': 'ID',\n"
     ]
    }
   ],
   "source": [
    "\n",
    "#! === RENAMEUP ===\n",
    "\n",
    "\n",
    "#* Renommer les colonnes de title_basics\n",
    "df_title_basics_clean.rename(columns={'tconst': 'ID',\n",
    "                                      'primaryTitle': 'Titre',\n",
    "                                      'startYear': 'Année',\n",
    "                                      'genres':  'Genres'}, inplace=True)\n",
    "\n",
    "#* Renommer les colonnes de title_ratings\n",
    "df_title_ratings_clean.rename(columns={'tconst': 'ID',\n",
    "                                       'averageRating': 'Note',\n",
    "                                       'numVotes': 'Votes'}, inplace=True)\n",
    "\n",
    "#* Renommer les colonnes de title_akas\n",
    "df_title_akas_clean.rename(columns={'titleId': 'ID', \n",
    "                                    'title': 'Titre Français'}, inplace=True)\n",
    "\n",
    "#* Renommer les colonnes de title_crew & name_basics\n",
    "title_crew_with_directors.rename(columns={'primaryName': 'Nom du/des Réalisateur(s)',\n",
    "                                          'tconst': 'ID'}, inplace=True)"
   ]
  },
  {
   "cell_type": "markdown",
   "metadata": {},
   "source": [
    "# **Fusion Principal**"
   ]
  },
  {
   "cell_type": "code",
   "execution_count": 4,
   "metadata": {},
   "outputs": [],
   "source": [
    "\n",
    "#! === MERGEUP ===\n",
    "\n",
    "\n",
    "#* Merge de title_basics & title_ratings\n",
    "df_merged_v1 = df_title_basics_clean.merge(df_title_ratings_clean, on=\"ID\")\n",
    "\n",
    "#* Merge de df_merged_v1 & title_ratings\n",
    "df_merged_v2 = df_merged_v1.merge(df_title_akas_clean, on='ID', how='left')\n",
    "\n",
    "#* Merge de title_basics & title_ratings\n",
    "df_merged_v3 = df_merged_v2.merge(title_crew_with_directors, on='ID', how='left')\n"
   ]
  },
  {
   "cell_type": "markdown",
   "metadata": {},
   "source": [
    "# **Exportation**"
   ]
  },
  {
   "cell_type": "code",
   "execution_count": null,
   "metadata": {},
   "outputs": [],
   "source": [
    "\n",
    "#! === EXPORT ===\n",
    "\n",
    "\n",
    "df_merged_v3.to_csv(\"../data/raw/df_movie.csv\", index=False)"
   ]
  },
  {
   "cell_type": "markdown",
   "metadata": {},
   "source": [
    "# **Importation**"
   ]
  },
  {
   "cell_type": "code",
   "execution_count": null,
   "metadata": {},
   "outputs": [],
   "source": [
    "import pandas as pd\n",
    "\n",
    "#! === IMPORT ===\n",
    "\n",
    "\n",
    "file_path = \"../data/raw/df_movie.csv\"\n",
    "\n",
    "df_movie = pd.read_csv(file_path)"
   ]
  },
  {
   "cell_type": "code",
   "execution_count": 2,
   "metadata": {},
   "outputs": [
    {
     "data": {
      "text/html": [
       "<div>\n",
       "<style scoped>\n",
       "    .dataframe tbody tr th:only-of-type {\n",
       "        vertical-align: middle;\n",
       "    }\n",
       "\n",
       "    .dataframe tbody tr th {\n",
       "        vertical-align: top;\n",
       "    }\n",
       "\n",
       "    .dataframe thead th {\n",
       "        text-align: right;\n",
       "    }\n",
       "</style>\n",
       "<table border=\"1\" class=\"dataframe\">\n",
       "  <thead>\n",
       "    <tr style=\"text-align: right;\">\n",
       "      <th></th>\n",
       "      <th>ID</th>\n",
       "      <th>Titre</th>\n",
       "      <th>Année</th>\n",
       "      <th>Genres</th>\n",
       "      <th>Note</th>\n",
       "      <th>Votes</th>\n",
       "      <th>Titre Français</th>\n",
       "      <th>Nom du/des Réalisateur(s)</th>\n",
       "    </tr>\n",
       "  </thead>\n",
       "  <tbody>\n",
       "    <tr>\n",
       "      <th>0</th>\n",
       "      <td>tt0035423</td>\n",
       "      <td>Kate &amp; Leopold</td>\n",
       "      <td>2001</td>\n",
       "      <td>Comedy,Fantasy,Romance</td>\n",
       "      <td>6.4</td>\n",
       "      <td>90632</td>\n",
       "      <td>Kate et Léopold</td>\n",
       "      <td>['James Mangold']</td>\n",
       "    </tr>\n",
       "    <tr>\n",
       "      <th>1</th>\n",
       "      <td>tt0038687</td>\n",
       "      <td>Let There Be Light</td>\n",
       "      <td>1980</td>\n",
       "      <td>Documentary,War</td>\n",
       "      <td>7.4</td>\n",
       "      <td>2063</td>\n",
       "      <td>Que la lumière soit</td>\n",
       "      <td>['John Huston']</td>\n",
       "    </tr>\n",
       "    <tr>\n",
       "      <th>2</th>\n",
       "      <td>tt0054724</td>\n",
       "      <td>I Eat Your Skin</td>\n",
       "      <td>1971</td>\n",
       "      <td>Horror</td>\n",
       "      <td>3.6</td>\n",
       "      <td>1717</td>\n",
       "      <td>NaN</td>\n",
       "      <td>['Del Tenney']</td>\n",
       "    </tr>\n",
       "    <tr>\n",
       "      <th>3</th>\n",
       "      <td>tt0061592</td>\n",
       "      <td>Doomsday Machine</td>\n",
       "      <td>1976</td>\n",
       "      <td>Sci-Fi</td>\n",
       "      <td>2.6</td>\n",
       "      <td>1421</td>\n",
       "      <td>NaN</td>\n",
       "      <td>['Harry Hope', 'Lee Sholem', 'Herbert J. Leder']</td>\n",
       "    </tr>\n",
       "    <tr>\n",
       "      <th>4</th>\n",
       "      <td>tt0062690</td>\n",
       "      <td>The Awakening of the Beast</td>\n",
       "      <td>1970</td>\n",
       "      <td>Drama,Horror</td>\n",
       "      <td>5.9</td>\n",
       "      <td>1339</td>\n",
       "      <td>L'éveil de la bête</td>\n",
       "      <td>['José Mojica Marins']</td>\n",
       "    </tr>\n",
       "    <tr>\n",
       "      <th>...</th>\n",
       "      <td>...</td>\n",
       "      <td>...</td>\n",
       "      <td>...</td>\n",
       "      <td>...</td>\n",
       "      <td>...</td>\n",
       "      <td>...</td>\n",
       "      <td>...</td>\n",
       "      <td>...</td>\n",
       "    </tr>\n",
       "    <tr>\n",
       "      <th>41557</th>\n",
       "      <td>tt9907782</td>\n",
       "      <td>The Cursed</td>\n",
       "      <td>2021</td>\n",
       "      <td>Fantasy,Horror,Mystery</td>\n",
       "      <td>6.2</td>\n",
       "      <td>18984</td>\n",
       "      <td>The Cursed</td>\n",
       "      <td>['Sean Ellis']</td>\n",
       "    </tr>\n",
       "    <tr>\n",
       "      <th>41558</th>\n",
       "      <td>tt9908390</td>\n",
       "      <td>Le lion</td>\n",
       "      <td>2020</td>\n",
       "      <td>Comedy</td>\n",
       "      <td>5.5</td>\n",
       "      <td>1457</td>\n",
       "      <td>Le lion</td>\n",
       "      <td>['Ludovic Colbeau-Justin']</td>\n",
       "    </tr>\n",
       "    <tr>\n",
       "      <th>41559</th>\n",
       "      <td>tt9911196</td>\n",
       "      <td>The Marriage Escape</td>\n",
       "      <td>2020</td>\n",
       "      <td>Comedy,Drama</td>\n",
       "      <td>7.4</td>\n",
       "      <td>3391</td>\n",
       "      <td>De Beentjes van Sint-Hildegard</td>\n",
       "      <td>['Johan Nijenhuis']</td>\n",
       "    </tr>\n",
       "    <tr>\n",
       "      <th>41560</th>\n",
       "      <td>tt9916270</td>\n",
       "      <td>Il talento del calabrone</td>\n",
       "      <td>2020</td>\n",
       "      <td>Thriller</td>\n",
       "      <td>5.8</td>\n",
       "      <td>1492</td>\n",
       "      <td>NaN</td>\n",
       "      <td>['Giacomo Cimini']</td>\n",
       "    </tr>\n",
       "    <tr>\n",
       "      <th>41561</th>\n",
       "      <td>tt9916362</td>\n",
       "      <td>Coven</td>\n",
       "      <td>2020</td>\n",
       "      <td>Drama,History</td>\n",
       "      <td>6.4</td>\n",
       "      <td>5942</td>\n",
       "      <td>Les sorcières d'Akelarre</td>\n",
       "      <td>['Pablo Agüero']</td>\n",
       "    </tr>\n",
       "  </tbody>\n",
       "</table>\n",
       "<p>41562 rows × 8 columns</p>\n",
       "</div>"
      ],
      "text/plain": [
       "              ID                       Titre  Année                  Genres  \\\n",
       "0      tt0035423              Kate & Leopold   2001  Comedy,Fantasy,Romance   \n",
       "1      tt0038687          Let There Be Light   1980         Documentary,War   \n",
       "2      tt0054724             I Eat Your Skin   1971                  Horror   \n",
       "3      tt0061592            Doomsday Machine   1976                  Sci-Fi   \n",
       "4      tt0062690  The Awakening of the Beast   1970            Drama,Horror   \n",
       "...          ...                         ...    ...                     ...   \n",
       "41557  tt9907782                  The Cursed   2021  Fantasy,Horror,Mystery   \n",
       "41558  tt9908390                     Le lion   2020                  Comedy   \n",
       "41559  tt9911196         The Marriage Escape   2020            Comedy,Drama   \n",
       "41560  tt9916270    Il talento del calabrone   2020                Thriller   \n",
       "41561  tt9916362                       Coven   2020           Drama,History   \n",
       "\n",
       "       Note  Votes                  Titre Français  \\\n",
       "0       6.4  90632                 Kate et Léopold   \n",
       "1       7.4   2063             Que la lumière soit   \n",
       "2       3.6   1717                             NaN   \n",
       "3       2.6   1421                             NaN   \n",
       "4       5.9   1339              L'éveil de la bête   \n",
       "...     ...    ...                             ...   \n",
       "41557   6.2  18984                      The Cursed   \n",
       "41558   5.5   1457                         Le lion   \n",
       "41559   7.4   3391  De Beentjes van Sint-Hildegard   \n",
       "41560   5.8   1492                             NaN   \n",
       "41561   6.4   5942        Les sorcières d'Akelarre   \n",
       "\n",
       "                              Nom du/des Réalisateur(s)  \n",
       "0                                     ['James Mangold']  \n",
       "1                                       ['John Huston']  \n",
       "2                                        ['Del Tenney']  \n",
       "3      ['Harry Hope', 'Lee Sholem', 'Herbert J. Leder']  \n",
       "4                                ['José Mojica Marins']  \n",
       "...                                                 ...  \n",
       "41557                                    ['Sean Ellis']  \n",
       "41558                        ['Ludovic Colbeau-Justin']  \n",
       "41559                               ['Johan Nijenhuis']  \n",
       "41560                                ['Giacomo Cimini']  \n",
       "41561                                  ['Pablo Agüero']  \n",
       "\n",
       "[41562 rows x 8 columns]"
      ]
     },
     "execution_count": 2,
     "metadata": {},
     "output_type": "execute_result"
    }
   ],
   "source": [
    "df_movie"
   ]
  },
  {
   "cell_type": "markdown",
   "metadata": {},
   "source": [
    "# **Ajout de données supplémentaires**"
   ]
  },
  {
   "cell_type": "code",
   "execution_count": null,
   "metadata": {},
   "outputs": [],
   "source": [
    "\n",
    "#! === ADDUP ===\n",
    "\n",
    "\n",
    "#* Ajout de la colonne popularité\n",
    "def categorize_votes(votes):\n",
    "    if votes < 25000:\n",
    "        return \"Connu\"\n",
    "    elif 25000 <= votes < 100000:\n",
    "        return \"Populaire\"\n",
    "    elif 100000 <= votes < 500000:\n",
    "        return \"Très populaire\"\n",
    "    else:\n",
    "        return \"Blockbuster\"\n",
    "\n",
    "df_movie['Popularité'] = df_movie['Votes'].apply(categorize_votes)\n",
    "\n",
    "#* Ajout de la colonne décennie\n",
    "df_movie['Décennie'] = (df_movie['Année'].astype(int) // 10) * 10\n",
    "\n",
    "#* Repositionner les colonnes\n",
    "df_movie = df_movie[['ID', 'Nom du/des Réalisateur(s)', 'Titre', 'Titre Français', 'Année', 'Décennie', 'Genres', 'Note', 'Votes', 'Popularité']]"
   ]
  },
  {
   "cell_type": "markdown",
   "metadata": {},
   "source": [
    "# **Processus de nettoyage**"
   ]
  },
  {
   "cell_type": "code",
   "execution_count": 4,
   "metadata": {},
   "outputs": [],
   "source": [
    "\n",
    "#! === CLEANUP V1 ===\n",
    "\n",
    "\n",
    "#* Supprimer les doublons\n",
    "df_movie_cleaned_v1 = df_movie.drop_duplicates(subset='ID')\n",
    "\n",
    "#* Supprimer les films avec moins de 15 000 votes\n",
    "df_movie_cleaned_v1 = df_movie_cleaned_v1[df_movie_cleaned_v1['Votes'] > 15000]\n",
    "\n",
    "#* Remplacer les valeurs manquantes dans 'Titre Français' par les valeurs de 'Titre'\n",
    "df_movie_cleaned_v1['Titre Français'] = df_movie_cleaned_v1['Titre Français'].fillna(df_movie_cleaned_v1['Titre'])"
   ]
  },
  {
   "cell_type": "code",
   "execution_count": 5,
   "metadata": {},
   "outputs": [],
   "source": [
    "\n",
    "#! === CLEANUP V2 ===\n",
    "\n",
    "\n",
    "#* Supprimer les films avec une note inférieur à 5\n",
    "df_movie_cleaned_v2 = df_movie_cleaned_v1[df_movie_cleaned_v1['Note'] > 5]\n",
    "\n",
    "#* Supprimer les films avec une note inférieur à 8 et sortis avant 2000\n",
    "df_movie_cleaned_v2 = df_movie_cleaned_v2[~((df_movie_cleaned_v2['Note'] < 8) & (df_movie_cleaned_v2['Année'] < 2000))]"
   ]
  },
  {
   "cell_type": "markdown",
   "metadata": {},
   "source": [
    "# **Exportation**"
   ]
  },
  {
   "cell_type": "code",
   "execution_count": 6,
   "metadata": {},
   "outputs": [],
   "source": [
    "\n",
    "#! === EXPORT ===\n",
    "\n",
    "df_movie_cleaned_v2.to_csv(\"../data/processed/df_movie_cleaned.csv\", index=False)"
   ]
  }
 ],
 "metadata": {
  "colab": {
   "provenance": [],
   "toc_visible": true
  },
  "kernelspec": {
   "display_name": "Python 3",
   "name": "python3"
  },
  "language_info": {
   "codemirror_mode": {
    "name": "ipython",
    "version": 3
   },
   "file_extension": ".py",
   "mimetype": "text/x-python",
   "name": "python",
   "nbconvert_exporter": "python",
   "pygments_lexer": "ipython3",
   "version": "3.12.7"
  }
 },
 "nbformat": 4,
 "nbformat_minor": 0
}
