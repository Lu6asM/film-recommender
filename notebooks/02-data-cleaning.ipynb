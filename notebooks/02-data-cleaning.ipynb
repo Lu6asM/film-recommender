{
 "cells": [
  {
   "cell_type": "markdown",
   "metadata": {},
   "source": [
    "# **DataFrame imdb**"
   ]
  },
  {
   "cell_type": "markdown",
   "metadata": {},
   "source": [
    "## **Import des bibliothèques nécessaires**"
   ]
  },
  {
   "cell_type": "code",
   "execution_count": 1,
   "metadata": {},
   "outputs": [],
   "source": [
    "import pandas as pd"
   ]
  },
  {
   "cell_type": "markdown",
   "metadata": {
    "id": "GQfW5fB61PGI"
   },
   "source": [
    "## **Chargement des datasets IMDb**"
   ]
  },
  {
   "cell_type": "code",
   "execution_count": 4,
   "metadata": {},
   "outputs": [
    {
     "name": "stderr",
     "output_type": "stream",
     "text": [
      "C:\\Users\\koke7\\AppData\\Local\\Temp\\ipykernel_5144\\3535879025.py:4: DtypeWarning: Columns (7) have mixed types. Specify dtype option on import or set low_memory=False.\n",
      "  df_title_basics = pd.read_csv('https://datasets.imdbws.com/title.basics.tsv.gz', sep='\\t', compression='gzip', na_values='\\\\N')\n",
      "C:\\Users\\koke7\\AppData\\Local\\Temp\\ipykernel_5144\\3535879025.py:8: DtypeWarning: Columns (6) have mixed types. Specify dtype option on import or set low_memory=False.\n",
      "  df_title_akas = pd.read_csv('https://datasets.imdbws.com/title.akas.tsv.gz', sep='\\t', compression='gzip', na_values='\\\\N')\n"
     ]
    }
   ],
   "source": [
    "# Nous importons les données directement depuis les fichiers IMDb compressés au format `.tsv.gz`.\n",
    "\n",
    "#* Datasets principaux\n",
    "df_title_basics = pd.read_csv('https://datasets.imdbws.com/title.basics.tsv.gz', sep='\\t', compression='gzip', na_values='\\\\N')\n",
    "df_title_ratings = pd.read_csv('https://datasets.imdbws.com/title.ratings.tsv.gz', sep='\\t', compression='gzip', na_values='\\\\N')\n",
    "\n",
    "#* Datasets complémentaires\n",
    "df_title_akas = pd.read_csv('https://datasets.imdbws.com/title.akas.tsv.gz', sep='\\t', compression='gzip', na_values='\\\\N')\n",
    "df_title_crew = pd.read_csv('https://datasets.imdbws.com/title.crew.tsv.gz', sep='\\t', compression='gzip', na_values='\\\\N')\n",
    "df_name_basics = pd.read_csv('https://datasets.imdbws.com/name.basics.tsv.gz', sep='\\t', compression='gzip', na_values='\\\\N')\n",
    "df_title_principals = pd.read_csv('https://datasets.imdbws.com/title.principals.tsv.gz', sep='\\t', compression='gzip', na_values='\\\\N')"
   ]
  },
  {
   "cell_type": "markdown",
   "metadata": {},
   "source": [
    "## **Nettoyage des datasets IMDb**"
   ]
  },
  {
   "cell_type": "code",
   "execution_count": 5,
   "metadata": {},
   "outputs": [],
   "source": [
    "\n",
    "#! === SETUP ===\n",
    "#? title_basics\n",
    "\n",
    "# 1. Garder uniquement les films (`titleType = 'movie'`).\n",
    "# 2. Supprimer les lignes avec des valeurs manquantes essentielles.\n",
    "# 3. Filtrer les années de production pour garder uniquement celles entre 1970 et 2025.\n",
    "# 4. Réduire le dataset aux colonnes essentielles.\n",
    "\n",
    "df_title_basics_clean = (\n",
    "    df_title_basics[df_title_basics['titleType'] == 'movie']\n",
    "    .dropna(subset=['startYear', 'genres'])\n",
    "    .assign(startYear=lambda x: x['startYear'].astype(int))\n",
    "    .query('1970 <= startYear <= 2025')\n",
    "    [['tconst', 'primaryTitle', 'startYear']]\n",
    ")\n",
    "\n",
    "\n",
    "#! === SETUP ===\n",
    "#? title_rating\n",
    "\n",
    "# 1. Garder uniquement les films ayant plus de 1000 votes.\n",
    "\n",
    "df_title_ratings_clean = df_title_ratings[df_title_ratings['numVotes'] > 1000]\n",
    "\n",
    "\n",
    "#! === SETUP ===\n",
    "#? title_akas\n",
    "\n",
    "# 1. Garder uniquement les titres traduits en français (`region = 'FR'`).\n",
    "# 2. Réduire aux colonnes essentielles et renommer pour correspondre au format attendu.\n",
    "\n",
    "df_title_akas_clean = (\n",
    "    df_title_akas[df_title_akas['region'] == 'FR']\n",
    "    [['titleId', 'title']]\n",
    "    .rename(columns={'titleId': 'tconst', 'title': 'Titre Français'})\n",
    ")\n",
    "\n",
    "\n",
    "#! === SETUP ===\n",
    "#? title_crew\n",
    "\n",
    "# 1. Remplir les valeurs manquantes dans `directors` avec \"Unknown\".\n",
    "# 2. Transformer `directors` en une liste.\n",
    "# 3. Exploser les réalisateurs en lignes individuelles pour fusionner avec `name.basics`.\n",
    "# 4. Regrouper les réalisateurs par film sous forme de liste.\n",
    "\n",
    "df_title_crew_clean = (\n",
    "    df_title_crew.fillna({'directors': 'Unknown'})\n",
    "    .assign(directors=lambda x: x['directors'].str.split(','))\n",
    "    .explode('directors')\n",
    "    .merge(df_name_basics[['nconst', 'primaryName']], left_on='directors', right_on='nconst', how='left')\n",
    "    .groupby('tconst')['primaryName'].apply(list).reset_index()\n",
    ")\n",
    "\n",
    "\n",
    "#! === SETUP ===\n",
    "#? title_principals\n",
    "\n",
    "# 1. Filtrer les acteurs uniquement.\n",
    "# 2. Fusionner avec `name.basics` pour récupérer les noms des acteurs.\n",
    "# 3. Regrouper les acteurs par film sous forme de liste.\n",
    "\n",
    "df_title_principals_clean = (\n",
    "    df_title_principals.dropna(subset=['category'])\n",
    "    .query(\"category == 'actor' or category == 'actress'\")\n",
    "    .merge(df_name_basics[['nconst', 'primaryName']], on='nconst', how='left')\n",
    "    .groupby('tconst')['primaryName'].apply(list).reset_index()\n",
    ")"
   ]
  },
  {
   "cell_type": "markdown",
   "metadata": {},
   "source": [
    "## **Fusion des datasets IMDb**"
   ]
  },
  {
   "cell_type": "code",
   "execution_count": 6,
   "metadata": {},
   "outputs": [],
   "source": [
    "\n",
    "#! === MERGEUP ===\n",
    "#* Nous fusionnons les datasets nettoyés pour créer un seul dataframe regroupant toutes les informations utiles.\n",
    "\n",
    "#* Fusion `title.basics` et `title.ratings`\n",
    "df_merged_v1 = df_title_basics_clean.merge(df_title_ratings_clean, on='tconst')\n",
    "\n",
    "#* Fusion avec `title.akas`\n",
    "df_merged_v2 = df_merged_v1.merge(df_title_akas_clean, on='tconst', how='left')\n",
    "\n",
    "#* Fusion avec `title.crew`\n",
    "df_merged_v3 = df_merged_v2.merge(df_title_crew_clean, on='tconst', how='left')\n",
    "\n",
    "#* Ajout des acteurs depuis `title.principals`\n",
    "df_merged_v3['Acteurs'] = df_merged_v3['tconst'].map(dict(zip(df_title_principals_clean['tconst'], df_title_principals_clean['primaryName'])))\n",
    "\n",
    "#* Export du dataframe IMDb final\n",
    "df_merged_v3.to_csv(\"../data/raw/df_movie.csv\", index=False)"
   ]
  },
  {
   "cell_type": "markdown",
   "metadata": {},
   "source": [
    "# **Initialisation de TMDB**"
   ]
  },
  {
   "cell_type": "markdown",
   "metadata": {},
   "source": [
    "## **Chargement des données**"
   ]
  },
  {
   "cell_type": "code",
   "execution_count": null,
   "metadata": {},
   "outputs": [],
   "source": [
    "import pandas as pd\n",
    "import requests\n",
    "\n",
    "# Clé API TMDb\n",
    "api_key = 'f26ef44bcadc5d6ffa22263ea37741ce'\n",
    "\n",
    "# === IMPORT ===\n",
    "df_movie = pd.read_csv('../data/raw/df_movie.csv')\n",
    "df_tmdb = pd.read_csv('../data/raw/tmdb_full.csv')"
   ]
  },
  {
   "cell_type": "markdown",
   "metadata": {},
   "source": [
    "## **Initialisation des datasets**"
   ]
  },
  {
   "cell_type": "code",
   "execution_count": null,
   "metadata": {},
   "outputs": [
    {
     "name": "stderr",
     "output_type": "stream",
     "text": [
      "C:\\Users\\koke7\\AppData\\Local\\Temp\\ipykernel_5144\\4040328731.py:27: SettingWithCopyWarning: \n",
      "A value is trying to be set on a copy of a slice from a DataFrame\n",
      "\n",
      "See the caveats in the documentation: https://pandas.pydata.org/pandas-docs/stable/user_guide/indexing.html#returning-a-view-versus-a-copy\n",
      "  df_tmdb.rename(columns={\n",
      "C:\\Users\\koke7\\AppData\\Local\\Temp\\ipykernel_5144\\4040328731.py:47: SettingWithCopyWarning: \n",
      "A value is trying to be set on a copy of a slice from a DataFrame.\n",
      "Try using .loc[row_indexer,col_indexer] = value instead\n",
      "\n",
      "See the caveats in the documentation: https://pandas.pydata.org/pandas-docs/stable/user_guide/indexing.html#returning-a-view-versus-a-copy\n",
      "  df_tmdb['Pays de Production'] = df_tmdb['Pays de Production'].apply(lambda x: ', '.join(x) if isinstance(x, list) else x)\n",
      "C:\\Users\\koke7\\AppData\\Local\\Temp\\ipykernel_5144\\4040328731.py:48: SettingWithCopyWarning: \n",
      "A value is trying to be set on a copy of a slice from a DataFrame.\n",
      "Try using .loc[row_indexer,col_indexer] = value instead\n",
      "\n",
      "See the caveats in the documentation: https://pandas.pydata.org/pandas-docs/stable/user_guide/indexing.html#returning-a-view-versus-a-copy\n",
      "  df_tmdb['Pays de Production'] = df_tmdb['Pays de Production'].str.strip(\"[]\").str.replace(\"'\", \"\")\n",
      "C:\\Users\\koke7\\AppData\\Local\\Temp\\ipykernel_5144\\4040328731.py:50: SettingWithCopyWarning: \n",
      "A value is trying to be set on a copy of a slice from a DataFrame.\n",
      "Try using .loc[row_indexer,col_indexer] = value instead\n",
      "\n",
      "See the caveats in the documentation: https://pandas.pydata.org/pandas-docs/stable/user_guide/indexing.html#returning-a-view-versus-a-copy\n",
      "  df_tmdb['Compagnies de Production'] = df_tmdb['Compagnies de Production'].apply(lambda x: ', '.join(x) if isinstance(x, list) else x)\n",
      "C:\\Users\\koke7\\AppData\\Local\\Temp\\ipykernel_5144\\4040328731.py:51: SettingWithCopyWarning: \n",
      "A value is trying to be set on a copy of a slice from a DataFrame.\n",
      "Try using .loc[row_indexer,col_indexer] = value instead\n",
      "\n",
      "See the caveats in the documentation: https://pandas.pydata.org/pandas-docs/stable/user_guide/indexing.html#returning-a-view-versus-a-copy\n",
      "  df_tmdb['Compagnies de Production'] = df_tmdb['Compagnies de Production'].str.strip(\"[]\").str.replace(\"'\", \"\")\n",
      "C:\\Users\\koke7\\AppData\\Local\\Temp\\ipykernel_5144\\4040328731.py:53: SettingWithCopyWarning: \n",
      "A value is trying to be set on a copy of a slice from a DataFrame.\n",
      "Try using .loc[row_indexer,col_indexer] = value instead\n",
      "\n",
      "See the caveats in the documentation: https://pandas.pydata.org/pandas-docs/stable/user_guide/indexing.html#returning-a-view-versus-a-copy\n",
      "  df_tmdb['Langues Parlées'] = df_tmdb['Langues Parlées'].apply(lambda x: ', '.join(x) if isinstance(x, list) else x)\n",
      "C:\\Users\\koke7\\AppData\\Local\\Temp\\ipykernel_5144\\4040328731.py:54: SettingWithCopyWarning: \n",
      "A value is trying to be set on a copy of a slice from a DataFrame.\n",
      "Try using .loc[row_indexer,col_indexer] = value instead\n",
      "\n",
      "See the caveats in the documentation: https://pandas.pydata.org/pandas-docs/stable/user_guide/indexing.html#returning-a-view-versus-a-copy\n",
      "  df_tmdb['Langues Parlées'] = df_tmdb['Langues Parlées'].str.strip(\"[]\").str.replace(\"'\", \"\")\n",
      "C:\\Users\\koke7\\AppData\\Local\\Temp\\ipykernel_5144\\4040328731.py:56: SettingWithCopyWarning: \n",
      "A value is trying to be set on a copy of a slice from a DataFrame.\n",
      "Try using .loc[row_indexer,col_indexer] = value instead\n",
      "\n",
      "See the caveats in the documentation: https://pandas.pydata.org/pandas-docs/stable/user_guide/indexing.html#returning-a-view-versus-a-copy\n",
      "  df_tmdb['Genres'] = df_tmdb['Genres'].apply(lambda x: ', '.join(x) if isinstance(x, list) else x)\n",
      "C:\\Users\\koke7\\AppData\\Local\\Temp\\ipykernel_5144\\4040328731.py:57: SettingWithCopyWarning: \n",
      "A value is trying to be set on a copy of a slice from a DataFrame.\n",
      "Try using .loc[row_indexer,col_indexer] = value instead\n",
      "\n",
      "See the caveats in the documentation: https://pandas.pydata.org/pandas-docs/stable/user_guide/indexing.html#returning-a-view-versus-a-copy\n",
      "  df_tmdb['Genres'] = df_tmdb['Genres'].str.strip(\"[]\").str.replace(\"'\", \"\")\n"
     ]
    }
   ],
   "source": [
    "\n",
    "#* Nous conservons uniquement les colonnes pertinentes pour le projet.\n",
    "df_tmdb = df_tmdb[\n",
    "    ['id', 'backdrop_path', 'budget', 'genres', 'imdb_id', 'original_language', 'overview', 'popularity', \n",
    "     'poster_path', 'production_countries', 'release_date', 'revenue', 'runtime', \n",
    "     'spoken_languages', 'vote_average', 'vote_count', 'production_companies']\n",
    "]\n",
    "\n",
    "#* Renommage des colonnes pour le dataset IMDb (df_movie)\n",
    "df_movie.rename(columns={\n",
    "    'tconst': 'ID imdb',\n",
    "    'primaryTitle': 'Titre Original',\n",
    "    'averageRating': 'Note imdb',\n",
    "    'numVotes': 'Votes imdb',\n",
    "    'title': 'Titre Français',\n",
    "    'actors': 'Acteurs',\n",
    "    'primaryName': 'Réalisateur(s)'\n",
    "}, inplace=True)\n",
    "\n",
    "#* Mise en forme des colonnes \"Réalisateur(s)\" et \"Acteurs\" pour convertir les listes en chaînes lisibles.\n",
    "df_movie['Réalisateur(s)'] = df_movie['Réalisateur(s)'].apply(lambda x: ', '.join(x) if isinstance(x, list) else x)\n",
    "df_movie['Réalisateur(s)'] = df_movie['Réalisateur(s)'].str.strip(\"[]\").str.replace(\"'\", \"\")\n",
    "\n",
    "df_movie['Acteurs'] = df_movie['Acteurs'].apply(lambda x: ', '.join(x) if isinstance(x, list) else x)\n",
    "df_movie['Acteurs'] = df_movie['Acteurs'].str.strip(\"[]\").str.replace(\"'\", \"\")\n",
    "\n",
    "#* Renommage des colonnes pour le dataset TMDB (df_tmdb)\n",
    "df_tmdb.rename(columns={\n",
    "    'id': 'ID tmdb',\n",
    "    'backdrop_path': 'Image de Fond',\n",
    "    'budget': 'Budget',\n",
    "    'genres': 'Genres',\n",
    "    'overview': 'Synopsis',\n",
    "    'original_language': 'Langue Originale',\n",
    "    'popularity': 'Popularité',\n",
    "    'poster_path': 'Affiche',\n",
    "    'production_countries': 'Pays de Production',\n",
    "    'release_date': 'Date de Sortie',\n",
    "    'revenue': 'Box Office',\n",
    "    'runtime': 'Durée',\n",
    "    'spoken_languages': 'Langues Parlées',\n",
    "    'vote_average': 'Note tmdb',\n",
    "    'vote_count': 'Votes tmdb',\n",
    "    'production_companies': 'Compagnies de Production'\n",
    "}, inplace=True)\n",
    "\n",
    "#* Mise en forme des colonnes avec des listes pour les rendre lisibles.\n",
    "df_tmdb['Pays de Production'] = df_tmdb['Pays de Production'].apply(lambda x: ', '.join(x) if isinstance(x, list) else x)\n",
    "df_tmdb['Pays de Production'] = df_tmdb['Pays de Production'].str.strip(\"[]\").str.replace(\"'\", \"\")\n",
    "\n",
    "df_tmdb['Compagnies de Production'] = df_tmdb['Compagnies de Production'].apply(lambda x: ', '.join(x) if isinstance(x, list) else x)\n",
    "df_tmdb['Compagnies de Production'] = df_tmdb['Compagnies de Production'].str.strip(\"[]\").str.replace(\"'\", \"\")\n",
    "\n",
    "df_tmdb['Langues Parlées'] = df_tmdb['Langues Parlées'].apply(lambda x: ', '.join(x) if isinstance(x, list) else x)\n",
    "df_tmdb['Langues Parlées'] = df_tmdb['Langues Parlées'].str.strip(\"[]\").str.replace(\"'\", \"\")\n",
    "\n",
    "df_tmdb['Genres'] = df_tmdb['Genres'].apply(lambda x: ', '.join(x) if isinstance(x, list) else x)\n",
    "df_tmdb['Genres'] = df_tmdb['Genres'].str.strip(\"[]\").str.replace(\"'\", \"\")\n",
    "\n",
    "df_movie['Acteurs'] = df_movie['Acteurs'].fillna('').str.split(',').apply(set)\n",
    "df_movie['Acteurs'] = df_movie['Acteurs'].apply(lambda x: ','.join(set(x)))\n",
    "\n",
    "df_movie['Mots-Clés'] = df_movie['Mots-Clés'].apply(lambda x: ', '.join(x) if isinstance(x, list) else x)\n",
    "df_movie['Mots-Clés'] = df_movie['Mots-Clés'].str.replace(r\"['\\[\\]]\", '', regex=True)\n"
   ]
  },
  {
   "cell_type": "markdown",
   "metadata": {},
   "source": [
    "## **Fusion de Imdb et Tmdb**"
   ]
  },
  {
   "cell_type": "code",
   "execution_count": 86,
   "metadata": {},
   "outputs": [],
   "source": [
    "\n",
    "#! === MERGEUP ===\n",
    "\n",
    "df_final = pd.merge(df_movie, df_tmdb, left_on='ID imdb', right_on='imdb_id')"
   ]
  },
  {
   "cell_type": "markdown",
   "metadata": {},
   "source": [
    "## **Ajout de données supplémentaires**"
   ]
  },
  {
   "cell_type": "code",
   "execution_count": 98,
   "metadata": {},
   "outputs": [],
   "source": [
    "\n",
    "#* Cette colonne catégorise les films en fonction de leur nombre de votes IMDb.\n",
    "def categorize_votes(votes):\n",
    "    if votes < 50000:\n",
    "        return \"Connu\"\n",
    "    elif 50000 <= votes < 200000:\n",
    "        return \"Populaire\"\n",
    "    elif 200000 <= votes < 1000000:\n",
    "        return \"Très populaire\"\n",
    "    else:\n",
    "        return \"Blockbuster\"\n",
    "\n",
    "df_final['Réputation'] = df_final['Votes imdb'].apply(categorize_votes)\n",
    "\n",
    "\n",
    "#* Cette colonne catégorise les films selon leur durée en minutes.\n",
    "def categorize_times(duree):\n",
    "    if duree < 100:\n",
    "        return \"Court\"\n",
    "    elif 100 <= duree <= 200:\n",
    "        return \"Moyen\"\n",
    "    else:\n",
    "        return \"Long\"\n",
    "\n",
    "df_final['Métrage'] = df_final['Durée'].apply(categorize_times)\n",
    "\n",
    "\n",
    "#* Cette colonne regroupe les films par décennie de sortie.\n",
    "def categorize_years(year):\n",
    "    if 1970 <= year <= 1979:\n",
    "        return \"70°s\"\n",
    "    if 1980 <= year <= 1989:\n",
    "        return \"80°s\"\n",
    "    if 1990 <= year <= 1999:\n",
    "        return \"90°s\"\n",
    "    if 2000 <= year <= 2009:\n",
    "        return \"2000\"\n",
    "    if 2010 <= year <= 2019:\n",
    "        return \"2010\"\n",
    "    if 2020 <= year <= 2029:\n",
    "        return \"2020\"\n",
    "\n",
    "\n",
    "#* Fonction pour récupérer les mots-clés d'un film par ID\n",
    "def get_movie_keywords(movie_id):\n",
    "    url_keywords = f'https://api.themoviedb.org/3/movie/{movie_id}/keywords?api_key={api_key}&language=en-US'\n",
    "    response_keywords = requests.get(url_keywords)\n",
    "    keywords_data = response_keywords.json()\n",
    "    keywords = [kw['name'] for kw in keywords_data.get('keywords', [])]\n",
    "    return keywords\n",
    "\n",
    "\n",
    "#* Ajouter les mots-clés à chaque film dans le DataFrame TMDb complet\n",
    "df_final['Mots-Clés'] = df_final['ID tmdb'].apply(get_movie_keywords)\n",
    "\n",
    "\n",
    "df_final['Décennie'] = df_final['Date de Sortie'].apply(\n",
    "    lambda x: categorize_years(int(str(x)[:4])) if isinstance(x, str) else x\n",
    ")\n",
    "\n",
    "\n",
    "#* Cette colonne extrait le premier genre de la liste des genres.\n",
    "df_final['Genre Principal'] = df_final['Genres'].apply(\n",
    "    lambda x: x.split(',')[0] if isinstance(x, str) else x\n",
    ")\n",
    "\n",
    "\n",
    "#* On exclut les films dont le genre principal est 'Documentary'.\n",
    "df_final = df_final[df_final['Genre Principal'] != 'Documentary']\n",
    "\n",
    "\n",
    "#* On repositionne les colonnes pour une meilleure lisibilité et cohérence.\n",
    "df_final = df_final[\n",
    "    ['ID imdb', 'ID tmdb', 'Titre Original', 'Titre Français', 'Réalisateur(s)', 'Acteurs',\n",
    "     'Budget', 'Genres', 'Mots-Clés', 'Genre Principal', 'Date de Sortie', 'Décennie',\n",
    "     'Langue Originale', 'Langues Parlées', 'Synopsis', 'Popularité', 'Réputation',\n",
    "     'Affiche', 'Image de Fond', 'Durée', 'Métrage',\n",
    "     'Note tmdb', 'Votes tmdb', 'Note imdb', 'Votes imdb',\n",
    "     'Compagnies de Production', 'Pays de Production', 'Box Office']\n",
    "]\n"
   ]
  },
  {
   "cell_type": "markdown",
   "metadata": {},
   "source": [
    "## **Filtrage Général**"
   ]
  },
  {
   "cell_type": "code",
   "execution_count": 113,
   "metadata": {},
   "outputs": [],
   "source": [
    "\n",
    "# S'assurer que la colonne 'Langues Parlées' est correctement formatée\n",
    "df_final['Langues Parlées'] = df_final['Langues Parlées'].astype(str)\n",
    "\n",
    "# Critères de sélection avec contains\n",
    "df_movie_cleaned_v1 = df_final[\n",
    "    # Films en français avec plus de 2000 votes et popularité > 1.5\n",
    "    ((df_final['Votes imdb'] > 8000) & (df_final['Popularité'] > 5) & (df_final['Langue Originale'].str.contains('fr', case=False, na=False))) |\n",
    "    # Films avec des langues parlées contenant 'French', plus de 10000 votes et popularité > 5\n",
    "    ((df_final['Votes imdb'] > 15000) & (df_final['Popularité'] > 7.5) & (df_final['Langues Parlées'].str.contains('French', case=False, na=False))) |\n",
    "    # Films en anglais avec plus de 20000 votes et popularité > 10\n",
    "    ((df_final['Votes imdb'] > 20000) & (df_final['Popularité'] > 10) & (df_final['Langue Originale'].str.contains('en', case=False, na=False))) |\n",
    "    # Films populaires dans toutes les langues avec au moins 30000 votes et popularité > 20\n",
    "    ((df_final['Votes imdb'] > 50000) & (df_final['Popularité'] > 25))\n",
    "]\n",
    "\n",
    "#* On conserve uniquement les films ayant des notes IMDb et TMDb supérieures à 4.\n",
    "df_movie_cleaned_v2 = df_movie_cleaned_v1[\n",
    "    ~((df_movie_cleaned_v1['Note imdb'] < 4) & (df_movie_cleaned_v1['Note tmdb'] < 4) & (df_movie_cleaned_v1['Date de Sortie'] < '2024-01-01'))\n",
    "]\n",
    "\n",
    "#* Exclusion des films ayant une note IMDb inférieure à 8 et sortis avant l'année 2000.\n",
    "df_movie_cleaned_v3 = df_movie_cleaned_v2[\n",
    "    ~((df_movie_cleaned_v2['Note imdb'] < 8) & (df_movie_cleaned_v2['Date de Sortie'] < '2000-01-01'))\n",
    "]\n",
    "\n",
    "#* On élimine les doublons en se basant sur le titre original.\n",
    "df_movie_cleaned_v4 = df_movie_cleaned_v3.drop_duplicates(subset='Titre Original')\n",
    "\n",
    "#* Création d'une copie explicite pour éviter des avertissements potentiels de pandas.\n",
    "df_movie_cleaned_v4 = df_movie_cleaned_v4.copy()\n",
    "\n",
    "#* Conversion de la colonne 'Durée' en format numérique.\n",
    "df_movie_cleaned_v4['Durée'] = pd.to_numeric(df_movie_cleaned_v4['Durée'], errors='coerce')"
   ]
  },
  {
   "cell_type": "markdown",
   "metadata": {},
   "source": [
    "## **Exportation**"
   ]
  },
  {
   "cell_type": "code",
   "execution_count": 115,
   "metadata": {},
   "outputs": [],
   "source": [
    "\n",
    "#! === EXPORT ===\n",
    "\n",
    "df_movie_cleaned_v4.to_csv(\"../data/processed/df_movie_cleaned.csv\", index=False)"
   ]
  },
  {
   "cell_type": "markdown",
   "metadata": {},
   "source": [
    "## **Rendu :**"
   ]
  },
  {
   "cell_type": "code",
   "execution_count": 116,
   "metadata": {},
   "outputs": [],
   "source": [
    "import pandas as pd\n",
    "\n",
    "df = pd.read_csv(\"../data/processed/df_movie_cleaned.csv\")"
   ]
  }
 ],
 "metadata": {
  "colab": {
   "provenance": [],
   "toc_visible": true
  },
  "kernelspec": {
   "display_name": "Python 3",
   "language": "python",
   "name": "python3"
  },
  "language_info": {
   "codemirror_mode": {
    "name": "ipython",
    "version": 3
   },
   "file_extension": ".py",
   "mimetype": "text/x-python",
   "name": "python",
   "nbconvert_exporter": "python",
   "pygments_lexer": "ipython3",
   "version": "3.13.1"
  }
 },
 "nbformat": 4,
 "nbformat_minor": 0
}
