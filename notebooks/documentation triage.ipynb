{
 "cells": [
  {
   "cell_type": "markdown",
   "metadata": {
    "id": "GQfW5fB61PGI"
   },
   "source": [
    "# **Importations datasets**"
   ]
  },
  {
   "cell_type": "code",
   "execution_count": 3,
   "metadata": {},
   "outputs": [
    {
     "name": "stderr",
     "output_type": "stream",
     "text": [
      "C:\\Users\\koke7\\AppData\\Local\\Temp\\ipykernel_12116\\2476917906.py:5: DtypeWarning: Columns (7) have mixed types. Specify dtype option on import or set low_memory=False.\n",
      "  df_title_basics = pd.read_csv('https://datasets.imdbws.com/title.basics.tsv.gz', sep = '\\t', compression='gzip', na_values='\\\\N')\n",
      "C:\\Users\\koke7\\AppData\\Local\\Temp\\ipykernel_12116\\2476917906.py:9: DtypeWarning: Columns (6) have mixed types. Specify dtype option on import or set low_memory=False.\n",
      "  df_title_akas = pd.read_csv('https://datasets.imdbws.com/title.akas.tsv.gz', sep = '\\t', compression='gzip', na_values='\\\\N')\n"
     ]
    }
   ],
   "source": [
    "\n",
    "#! === IMPORT ===\n",
    "import pandas as pd\n",
    "\n",
    "#* Les datasets importants\n",
    "df_title_basics = pd.read_csv('https://datasets.imdbws.com/title.basics.tsv.gz', sep = '\\t', compression='gzip', na_values='\\\\N')\n",
    "df_title_ratings = pd.read_csv('https://datasets.imdbws.com/title.ratings.tsv.gz', sep = '\\t', compression='gzip', na_values='\\\\N')\n",
    "\n",
    "#* Les datasets intéressants\n",
    "df_title_akas = pd.read_csv('https://datasets.imdbws.com/title.akas.tsv.gz', sep = '\\t', compression='gzip', na_values='\\\\N')\n",
    "df_title_crew = pd.read_csv('https://datasets.imdbws.com/title.crew.tsv.gz', sep = '\\t', compression='gzip', na_values='\\\\N')\n",
    "df_name_basics = pd.read_csv('https://datasets.imdbws.com/name.basics.tsv.gz', sep = '\\t', compression='gzip', na_values='\\\\N')"
   ]
  },
  {
   "cell_type": "markdown",
   "metadata": {},
   "source": [
    "# **Initialisation Principal**"
   ]
  },
  {
   "cell_type": "code",
   "execution_count": 5,
   "metadata": {},
   "outputs": [],
   "source": [
    "\n",
    "#! === SETUP ===\n",
    "#? title_basics\n",
    "\n",
    "#* Garder uniquement les films\n",
    "df_title_basics_clean = df_title_basics[df_title_basics['titleType'] == 'movie']\n",
    "\n",
    "#* Supprimer les lignes avec des données manquantes essentielles\n",
    "df_title_basics_clean = df_title_basics_clean.dropna(subset=['startYear', 'genres'])\n",
    "\n",
    "#* Convertir startYear en entier et filtrer les années valides\n",
    "df_title_basics_clean['startYear'] = df_title_basics_clean['startYear'].astype(int)\n",
    "df_title_basics_clean = df_title_basics_clean[(df_title_basics_clean['startYear'] >= 1970) & (df_title_basics_clean['startYear'] <= 2024)]\n",
    "\n",
    "#* Garder les colonnes essentiels\n",
    "df_title_basics_clean = df_title_basics_clean[['tconst', 'primaryTitle', 'startYear', 'genres']]\n",
    "\n",
    "\n",
    "\n",
    "#! === SETUP ===\n",
    "#? title_rating\n",
    "\n",
    "#* Supprimer les films avec peu de votes\n",
    "df_title_ratings_clean = df_title_ratings[df_title_ratings['numVotes'] > 1000]\n",
    "\n",
    "\n",
    "\n",
    "#! === SETUP ===\n",
    "#? title_akas\n",
    "\n",
    "#* Garder uniquement les titres de film français\n",
    "df_title_akas_clean = df_title_akas[df_title_akas['region'] == 'FR']\n",
    "\n",
    "#* Garder les colonnes essentiels\n",
    "df_title_akas_clean = df_title_akas_clean[['titleId', 'title']]\n",
    "\n",
    "\n",
    "\n",
    "#! === SETUP ===\n",
    "#? title_crew & name_basics\n",
    "\n",
    "#* Supprimer les lignes avec des valeurs manquantes dans 'directors'\n",
    "df_title_crew_clean = df_title_crew.dropna(subset=['directors'])\n",
    "\n",
    "#* Remplir les valeurs manquantes avec un indicateur, par exemple 'Unknown'\n",
    "df_title_crew_clean = df_title_crew_clean.fillna({'directors': 'Unknown'})\n",
    "\n",
    "#* Transformer la colonne 'directors' en une liste\n",
    "df_title_crew_clean['directors'] = df_title_crew_clean['directors'].str.split(',')\n",
    "\n",
    "#* Exploser la colonne 'directors' en lignes individuelles\n",
    "df_title_crew_clean = df_title_crew_clean.explode('directors')\n",
    "\n",
    "#* Fusionner les 'directors' avec 'name_basics' pour obtenir les 'primaryName'\n",
    "title_crew_with_directors = df_title_crew_clean.merge(df_name_basics[['nconst', 'primaryName']], \n",
    "                                                     how='left', \n",
    "                                                     left_on='directors', \n",
    "                                                     right_on='nconst')\n",
    "\n",
    "#* Regrouper les résultats par 'tconst' pour remettre les réalisateurs sous forme de liste\n",
    "title_crew_with_directors = title_crew_with_directors.groupby('tconst')['primaryName'].apply(list).reset_index()\n",
    "\n"
   ]
  },
  {
   "cell_type": "markdown",
   "metadata": {},
   "source": [
    "# **Renommer les colonnes**"
   ]
  },
  {
   "cell_type": "code",
   "execution_count": 30,
   "metadata": {},
   "outputs": [
    {
     "name": "stderr",
     "output_type": "stream",
     "text": [
      "C:\\Users\\koke7\\AppData\\Local\\Temp\\ipykernel_36388\\4212332422.py:10: SettingWithCopyWarning: \n",
      "A value is trying to be set on a copy of a slice from a DataFrame\n",
      "\n",
      "See the caveats in the documentation: https://pandas.pydata.org/pandas-docs/stable/user_guide/indexing.html#returning-a-view-versus-a-copy\n",
      "  df_title_ratings_clean.rename(columns={'tconst': 'ID',\n"
     ]
    }
   ],
   "source": [
    "\n",
    "#! === RENAMEUP ===\n",
    "\n",
    "#* Renommer les colonnes de title_basics\n",
    "df_title_basics_clean.rename(columns={'tconst': 'ID',\n",
    "                                      'primaryTitle': 'Titre',\n",
    "                                      'startYear': 'Année',\n",
    "                                      'genres':  'Genres'}, inplace=True)\n",
    "\n",
    "#* Renommer les colonnes de title_ratings\n",
    "df_title_ratings_clean.rename(columns={'tconst': 'ID',\n",
    "                                       'averageRating': 'Note',\n",
    "                                       'numVotes': 'Votes'}, inplace=True)\n",
    "\n",
    "#* Renommer les colonnes de title_akas\n",
    "df_title_akas_clean.rename(columns={'titleId': 'ID', \n",
    "                                    'title': 'Titre Français'}, inplace=True)\n",
    "\n",
    "#* Renommer les colonnes de title_crew & name_basics\n",
    "title_crew_with_directors.rename(columns={'primaryName': 'Nom du/des Réalisateur(s)',\n",
    "                                          'tconst': 'ID'}, inplace=True)\n"
   ]
  },
  {
   "cell_type": "markdown",
   "metadata": {},
   "source": [
    "# **Fusion Principal**"
   ]
  },
  {
   "cell_type": "code",
   "execution_count": null,
   "metadata": {},
   "outputs": [
    {
     "name": "stderr",
     "output_type": "stream",
     "text": [
      "C:\\Users\\koke7\\AppData\\Local\\Temp\\ipykernel_36388\\1200725942.py:20: UserWarning: Boolean Series key will be reindexed to match DataFrame index.\n",
      "  df_merged_v4 = df_merged_v4[df_merged_v3['Votes'] > 15000]\n"
     ]
    }
   ],
   "source": [
    "\n",
    "#! === MERGEUP ===\n",
    "\n",
    "#* Merge de title_basics & title_ratings\n",
    "df_merged_v1 = df_title_basics_clean.merge(df_title_ratings_clean, on=\"ID\")\n",
    "\n",
    "#* Merge de df_merged_v1 & title_ratings\n",
    "df_merged_v2 = df_merged_v1.merge(df_title_akas_clean, on='ID', how='left')\n",
    "\n",
    "#* Merge de title_basics & title_ratings\n",
    "df_merged_v3 = df_merged_v2.merge(title_crew_with_directors, on='ID', how='left')\n",
    "\n",
    "\n",
    "\n",
    "#! === CLEANUP ===\n",
    "\n",
    "#* Supprimer les doublons\n",
    "df_merged_v4 = df_merged_v3.drop_duplicates(subset='ID')\n",
    "\n",
    "#* Supprimer les films avec moins de 15 000 votes\n",
    "df_merged_v4 = df_merged_v4[df_merged_v3['Votes'] > 15000]\n",
    "\n",
    "#* Remplacer les valeurs manquantes dans 'Titre Français' par les valeurs de 'Titre'\n",
    "df_merged_v4['Titre Français'] = df_merged_v4['Titre Français'].fillna(df_merged_v4['Titre'])"
   ]
  },
  {
   "cell_type": "markdown",
   "metadata": {},
   "source": [
    "# **Ajout de données supplémentaires**"
   ]
  },
  {
   "cell_type": "code",
   "execution_count": 55,
   "metadata": {},
   "outputs": [],
   "source": [
    "\n",
    "#* Ajout de la colonne popularité\n",
    "def categorize_votes(votes):\n",
    "    if votes < 25000:\n",
    "        return \"Connu\"\n",
    "    elif 25000 <= votes < 100000:\n",
    "        return \"Populaire\"\n",
    "    elif 100000 <= votes < 500000:\n",
    "        return \"Très populaire\"\n",
    "    else:\n",
    "        return \"Blockbuster\"\n",
    "\n",
    "df_merged_v4['Popularité'] = df_merged_v4['Votes'].apply(categorize_votes)\n",
    "\n",
    "#* Ajout de la colonne décennie\n",
    "df_merged_v4['Décennie'] = (df_merged_v4['Année'].astype(int) // 10) * 10\n",
    "\n",
    "#* Repositionner les colonnes\n",
    "df_merged_v4 = df_merged_v4[['ID', 'Nom du/des Réalisateur(s)', 'Titre', 'Titre Français', 'Année', 'Décennie', 'Genres', 'Note', 'Votes', 'Popularité']]"
   ]
  },
  {
   "cell_type": "markdown",
   "metadata": {},
   "source": [
    "# **Exportation**"
   ]
  },
  {
   "cell_type": "code",
   "execution_count": 56,
   "metadata": {},
   "outputs": [],
   "source": [
    "import pandas as pd\n",
    "\n",
    "df_merged_v1.to_csv(\"df_merged_v1.csv\", index=False)\n",
    "\n",
    "df_merged_v2.to_csv(\"df_merged_v2.csv\", index=False)\n",
    "\n",
    "df_merged_v3.to_csv(\"df_merged_v3.csv\", index=False)\n",
    "\n",
    "df_merged_v4.to_csv(\"df_merged_v4.csv\", index=False)"
   ]
  }
 ],
 "metadata": {
  "colab": {
   "provenance": [],
   "toc_visible": true
  },
  "kernelspec": {
   "display_name": "Python 3",
   "name": "python3"
  },
  "language_info": {
   "codemirror_mode": {
    "name": "ipython",
    "version": 3
   },
   "file_extension": ".py",
   "mimetype": "text/x-python",
   "name": "python",
   "nbconvert_exporter": "python",
   "pygments_lexer": "ipython3",
   "version": "3.12.7"
  }
 },
 "nbformat": 4,
 "nbformat_minor": 0
}
